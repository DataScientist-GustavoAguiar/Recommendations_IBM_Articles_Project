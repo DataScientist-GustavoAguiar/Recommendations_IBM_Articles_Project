{
 "cells": [
  {
   "cell_type": "markdown",
   "metadata": {},
   "source": [
    "# Recommendations with IBM\n",
    "\n",
    "In this notebook, you will be putting your recommendation skills to use on real data from the IBM Watson Studio platform. \n",
    "\n",
    "\n",
    "You may either submit your notebook through the workspace here, or you may work from your local machine and submit through the next page.  Either way assure that your code passes the project [RUBRIC](https://review.udacity.com/#!/rubrics/2322/view).  **Please save regularly.**\n",
    "\n",
    "By following the table of contents, you will build out a number of different methods for making recommendations that can be used for different situations. \n",
    "\n",
    "\n",
    "## Table of Contents\n",
    "\n",
    "I. [Exploratory Data Analysis](#Exploratory-Data-Analysis)<br>\n",
    "II. [Rank Based Recommendations](#Rank)<br>\n",
    "III. [User-User Based Collaborative Filtering](#User-User)<br>\n",
    "IV. [Content Based Recommendations (EXTRA - NOT REQUIRED)](#Content-Recs)<br>\n",
    "V. [Matrix Factorization](#Matrix-Fact)<br>\n",
    "VI. [Extras & Concluding](#conclusions)\n",
    "\n",
    "At the end of the notebook, you will find directions for how to submit your work.  Let's get started by importing the necessary libraries and reading in the data."
   ]
  },
  {
   "cell_type": "code",
   "execution_count": 1,
   "metadata": {},
   "outputs": [
    {
     "data": {
      "text/html": [
       "<div>\n",
       "<style scoped>\n",
       "    .dataframe tbody tr th:only-of-type {\n",
       "        vertical-align: middle;\n",
       "    }\n",
       "\n",
       "    .dataframe tbody tr th {\n",
       "        vertical-align: top;\n",
       "    }\n",
       "\n",
       "    .dataframe thead th {\n",
       "        text-align: right;\n",
       "    }\n",
       "</style>\n",
       "<table border=\"1\" class=\"dataframe\">\n",
       "  <thead>\n",
       "    <tr style=\"text-align: right;\">\n",
       "      <th></th>\n",
       "      <th>article_id</th>\n",
       "      <th>title</th>\n",
       "      <th>email</th>\n",
       "    </tr>\n",
       "  </thead>\n",
       "  <tbody>\n",
       "    <tr>\n",
       "      <th>0</th>\n",
       "      <td>1430.0</td>\n",
       "      <td>using pixiedust for fast, flexible, and easier...</td>\n",
       "      <td>ef5f11f77ba020cd36e1105a00ab868bbdbf7fe7</td>\n",
       "    </tr>\n",
       "    <tr>\n",
       "      <th>1</th>\n",
       "      <td>1314.0</td>\n",
       "      <td>healthcare python streaming application demo</td>\n",
       "      <td>083cbdfa93c8444beaa4c5f5e0f5f9198e4f9e0b</td>\n",
       "    </tr>\n",
       "    <tr>\n",
       "      <th>2</th>\n",
       "      <td>1429.0</td>\n",
       "      <td>use deep learning for image classification</td>\n",
       "      <td>b96a4f2e92d8572034b1e9b28f9ac673765cd074</td>\n",
       "    </tr>\n",
       "    <tr>\n",
       "      <th>3</th>\n",
       "      <td>1338.0</td>\n",
       "      <td>ml optimization using cognitive assistant</td>\n",
       "      <td>06485706b34a5c9bf2a0ecdac41daf7e7654ceb7</td>\n",
       "    </tr>\n",
       "    <tr>\n",
       "      <th>4</th>\n",
       "      <td>1276.0</td>\n",
       "      <td>deploy your python model as a restful api</td>\n",
       "      <td>f01220c46fc92c6e6b161b1849de11faacd7ccb2</td>\n",
       "    </tr>\n",
       "  </tbody>\n",
       "</table>\n",
       "</div>"
      ],
      "text/plain": [
       "   article_id                                              title  \\\n",
       "0      1430.0  using pixiedust for fast, flexible, and easier...   \n",
       "1      1314.0       healthcare python streaming application demo   \n",
       "2      1429.0         use deep learning for image classification   \n",
       "3      1338.0          ml optimization using cognitive assistant   \n",
       "4      1276.0          deploy your python model as a restful api   \n",
       "\n",
       "                                      email  \n",
       "0  ef5f11f77ba020cd36e1105a00ab868bbdbf7fe7  \n",
       "1  083cbdfa93c8444beaa4c5f5e0f5f9198e4f9e0b  \n",
       "2  b96a4f2e92d8572034b1e9b28f9ac673765cd074  \n",
       "3  06485706b34a5c9bf2a0ecdac41daf7e7654ceb7  \n",
       "4  f01220c46fc92c6e6b161b1849de11faacd7ccb2  "
      ]
     },
     "execution_count": 1,
     "metadata": {},
     "output_type": "execute_result"
    }
   ],
   "source": [
    "import pandas as pd\n",
    "import numpy as np\n",
    "import matplotlib.pyplot as plt\n",
    "import project_tests as t\n",
    "import pickle\n",
    "\n",
    "%matplotlib inline\n",
    "\n",
    "# Import data\n",
    "df = pd.read_csv('data/user-item-interactions.csv')\n",
    "df_content = pd.read_csv('data/articles_community.csv')\n",
    "del df['Unnamed: 0']\n",
    "del df_content['Unnamed: 0']\n",
    "\n",
    "# Display df to get a sense of the data\n",
    "df.head()"
   ]
  },
  {
   "cell_type": "markdown",
   "metadata": {},
   "source": [
    "Here are the articles ids, their titles, and the e-mail addresses of all users who interacted with the article (read)"
   ]
  },
  {
   "cell_type": "code",
   "execution_count": 2,
   "metadata": {},
   "outputs": [
    {
     "data": {
      "text/html": [
       "<div>\n",
       "<style scoped>\n",
       "    .dataframe tbody tr th:only-of-type {\n",
       "        vertical-align: middle;\n",
       "    }\n",
       "\n",
       "    .dataframe tbody tr th {\n",
       "        vertical-align: top;\n",
       "    }\n",
       "\n",
       "    .dataframe thead th {\n",
       "        text-align: right;\n",
       "    }\n",
       "</style>\n",
       "<table border=\"1\" class=\"dataframe\">\n",
       "  <thead>\n",
       "    <tr style=\"text-align: right;\">\n",
       "      <th></th>\n",
       "      <th>doc_body</th>\n",
       "      <th>doc_description</th>\n",
       "      <th>doc_full_name</th>\n",
       "      <th>doc_status</th>\n",
       "      <th>article_id</th>\n",
       "    </tr>\n",
       "  </thead>\n",
       "  <tbody>\n",
       "    <tr>\n",
       "      <th>0</th>\n",
       "      <td>Skip navigation Sign in SearchLoading...\\r\\n\\r...</td>\n",
       "      <td>Detect bad readings in real time using Python ...</td>\n",
       "      <td>Detect Malfunctioning IoT Sensors with Streami...</td>\n",
       "      <td>Live</td>\n",
       "      <td>0</td>\n",
       "    </tr>\n",
       "    <tr>\n",
       "      <th>1</th>\n",
       "      <td>No Free Hunch Navigation * kaggle.com\\r\\n\\r\\n ...</td>\n",
       "      <td>See the forest, see the trees. Here lies the c...</td>\n",
       "      <td>Communicating data science: A guide to present...</td>\n",
       "      <td>Live</td>\n",
       "      <td>1</td>\n",
       "    </tr>\n",
       "    <tr>\n",
       "      <th>2</th>\n",
       "      <td>☰ * Login\\r\\n * Sign Up\\r\\n\\r\\n * Learning Pat...</td>\n",
       "      <td>Here’s this week’s news in Data Science and Bi...</td>\n",
       "      <td>This Week in Data Science (April 18, 2017)</td>\n",
       "      <td>Live</td>\n",
       "      <td>2</td>\n",
       "    </tr>\n",
       "    <tr>\n",
       "      <th>3</th>\n",
       "      <td>DATALAYER: HIGH THROUGHPUT, LOW LATENCY AT SCA...</td>\n",
       "      <td>Learn how distributed DBs solve the problem of...</td>\n",
       "      <td>DataLayer Conference: Boost the performance of...</td>\n",
       "      <td>Live</td>\n",
       "      <td>3</td>\n",
       "    </tr>\n",
       "    <tr>\n",
       "      <th>4</th>\n",
       "      <td>Skip navigation Sign in SearchLoading...\\r\\n\\r...</td>\n",
       "      <td>This video demonstrates the power of IBM DataS...</td>\n",
       "      <td>Analyze NY Restaurant data using Spark in DSX</td>\n",
       "      <td>Live</td>\n",
       "      <td>4</td>\n",
       "    </tr>\n",
       "  </tbody>\n",
       "</table>\n",
       "</div>"
      ],
      "text/plain": [
       "                                            doc_body  \\\n",
       "0  Skip navigation Sign in SearchLoading...\\r\\n\\r...   \n",
       "1  No Free Hunch Navigation * kaggle.com\\r\\n\\r\\n ...   \n",
       "2  ☰ * Login\\r\\n * Sign Up\\r\\n\\r\\n * Learning Pat...   \n",
       "3  DATALAYER: HIGH THROUGHPUT, LOW LATENCY AT SCA...   \n",
       "4  Skip navigation Sign in SearchLoading...\\r\\n\\r...   \n",
       "\n",
       "                                     doc_description  \\\n",
       "0  Detect bad readings in real time using Python ...   \n",
       "1  See the forest, see the trees. Here lies the c...   \n",
       "2  Here’s this week’s news in Data Science and Bi...   \n",
       "3  Learn how distributed DBs solve the problem of...   \n",
       "4  This video demonstrates the power of IBM DataS...   \n",
       "\n",
       "                                       doc_full_name doc_status  article_id  \n",
       "0  Detect Malfunctioning IoT Sensors with Streami...       Live           0  \n",
       "1  Communicating data science: A guide to present...       Live           1  \n",
       "2         This Week in Data Science (April 18, 2017)       Live           2  \n",
       "3  DataLayer Conference: Boost the performance of...       Live           3  \n",
       "4      Analyze NY Restaurant data using Spark in DSX       Live           4  "
      ]
     },
     "execution_count": 2,
     "metadata": {},
     "output_type": "execute_result"
    }
   ],
   "source": [
    "# Display df_content to get a sense of the data\n",
    "df_content.head()"
   ]
  },
  {
   "cell_type": "markdown",
   "metadata": {},
   "source": [
    "This dataframe contains more specific information about the articles' content. The column of article id can be used to join dataframes together."
   ]
  },
  {
   "cell_type": "markdown",
   "metadata": {},
   "source": [
    "### <a class=\"anchor\" id=\"Exploratory-Data-Analysis\">Part I : Exploratory Data Analysis</a>\n",
    "\n",
    "Use the dictionary and cells below to provide some insight into the descriptive statistics of the data.\n",
    "\n",
    "`1.` What is the distribution of how many articles a user interacts with in the dataset?  Provide a visual and descriptive statistics to assist with giving a look at the number of times each user interacts with an article.  "
   ]
  },
  {
   "cell_type": "code",
   "execution_count": 3,
   "metadata": {},
   "outputs": [
    {
     "name": "stdout",
     "output_type": "stream",
     "text": [
      "<class 'pandas.core.frame.DataFrame'>\n",
      "RangeIndex: 45993 entries, 0 to 45992\n",
      "Data columns (total 3 columns):\n",
      "article_id    45993 non-null float64\n",
      "title         45993 non-null object\n",
      "email         45976 non-null object\n",
      "dtypes: float64(1), object(2)\n",
      "memory usage: 1.1+ MB\n"
     ]
    }
   ],
   "source": [
    "df.info()"
   ]
  },
  {
   "cell_type": "code",
   "execution_count": 4,
   "metadata": {},
   "outputs": [
    {
     "data": {
      "text/plain": [
       "12311"
      ]
     },
     "execution_count": 4,
     "metadata": {},
     "output_type": "execute_result"
    }
   ],
   "source": [
    "# Duplicated rows in user-item interactions (users that read the same article many times, \n",
    "# we should not drop duplicated rows such as these because they can help later)\n",
    "df.duplicated().sum()"
   ]
  },
  {
   "cell_type": "markdown",
   "metadata": {},
   "source": [
    "We should change the type of article id. Keeping it as float makes no sense."
   ]
  },
  {
   "cell_type": "code",
   "execution_count": 5,
   "metadata": {},
   "outputs": [],
   "source": [
    "# Change article_id type \n",
    "df.article_id = df.article_id.astype('int64')\n",
    "\n",
    "# Drop missing rows\n",
    "clean_df = df.dropna()"
   ]
  },
  {
   "cell_type": "code",
   "execution_count": 6,
   "metadata": {},
   "outputs": [],
   "source": [
    "# Count the quantity of articles that each user read\n",
    "user_article_int = df.groupby(['email'])['article_id'].count().reset_index(name='articles_read')"
   ]
  },
  {
   "cell_type": "code",
   "execution_count": 7,
   "metadata": {},
   "outputs": [
    {
     "data": {
      "text/plain": [
       "count    5148.000000\n",
       "mean        8.930847\n",
       "std        16.802267\n",
       "min         1.000000\n",
       "25%         1.000000\n",
       "50%         3.000000\n",
       "75%         9.000000\n",
       "max       364.000000\n",
       "Name: articles_read, dtype: float64"
      ]
     },
     "execution_count": 7,
     "metadata": {},
     "output_type": "execute_result"
    }
   ],
   "source": [
    "user_article_int['articles_read'].describe()"
   ]
  },
  {
   "cell_type": "markdown",
   "metadata": {},
   "source": [
    "As a result, each user read 8.93 articles on average. The high standard deviation of 16.8 and the much lower median of 3 articles, on the other hand, indicate a significant number of outliers who read a large number of articles, causing the mean to rise to a high value. A histogram can be used to confirm this."
   ]
  },
  {
   "cell_type": "code",
   "execution_count": 8,
   "metadata": {},
   "outputs": [],
   "source": [
    "# Fill in the median and maximum number of user_article interactios below\n",
    "\n",
    "median_val = 3 # 50% of individuals interact with __3__ number of articles or fewer.\n",
    "max_views_by_user = 364 # The maximum number of user-article interactions by any 1 user is __364____."
   ]
  },
  {
   "cell_type": "code",
   "execution_count": 9,
   "metadata": {},
   "outputs": [
    {
     "data": {
      "image/png": "[encoded data removed]",
      "text/plain": [
       "<matplotlib.figure.Figure at 0x7f510e318ef0>"
      ]
     },
     "metadata": {
      "needs_background": "light"
     },
     "output_type": "display_data"
    }
   ],
   "source": [
    "plt.hist(user_article_int['articles_read'], bins=15);\n",
    "plt.xlabel('Interactions');\n",
    "plt.ylabel('Articles Read')\n",
    "plt.title('User-Article Interactions');\n",
    "plt.show()"
   ]
  },
  {
   "cell_type": "markdown",
   "metadata": {},
   "source": [
    "`2.` Explore and remove duplicate articles from the **df_content** dataframe.  "
   ]
  },
  {
   "cell_type": "code",
   "execution_count": 10,
   "metadata": {},
   "outputs": [
    {
     "data": {
      "text/html": [
       "<div>\n",
       "<style scoped>\n",
       "    .dataframe tbody tr th:only-of-type {\n",
       "        vertical-align: middle;\n",
       "    }\n",
       "\n",
       "    .dataframe tbody tr th {\n",
       "        vertical-align: top;\n",
       "    }\n",
       "\n",
       "    .dataframe thead th {\n",
       "        text-align: right;\n",
       "    }\n",
       "</style>\n",
       "<table border=\"1\" class=\"dataframe\">\n",
       "  <thead>\n",
       "    <tr style=\"text-align: right;\">\n",
       "      <th></th>\n",
       "      <th>doc_body</th>\n",
       "      <th>doc_description</th>\n",
       "      <th>doc_full_name</th>\n",
       "      <th>doc_status</th>\n",
       "      <th>article_id</th>\n",
       "    </tr>\n",
       "  </thead>\n",
       "  <tbody>\n",
       "    <tr>\n",
       "      <th>365</th>\n",
       "      <td>Follow Sign in / Sign up Home About Insight Da...</td>\n",
       "      <td>During the seven-week Insight Data Engineering...</td>\n",
       "      <td>Graph-based machine learning</td>\n",
       "      <td>Live</td>\n",
       "      <td>50</td>\n",
       "    </tr>\n",
       "    <tr>\n",
       "      <th>692</th>\n",
       "      <td>Homepage Follow Sign in / Sign up Homepage * H...</td>\n",
       "      <td>One of the earliest documented catalogs was co...</td>\n",
       "      <td>How smart catalogs can turn the big data flood...</td>\n",
       "      <td>Live</td>\n",
       "      <td>221</td>\n",
       "    </tr>\n",
       "    <tr>\n",
       "      <th>761</th>\n",
       "      <td>Homepage Follow Sign in Get started Homepage *...</td>\n",
       "      <td>Today’s world of data science leverages data f...</td>\n",
       "      <td>Using Apache Spark as a parallel processing fr...</td>\n",
       "      <td>Live</td>\n",
       "      <td>398</td>\n",
       "    </tr>\n",
       "    <tr>\n",
       "      <th>970</th>\n",
       "      <td>This video shows you how to construct queries ...</td>\n",
       "      <td>This video shows you how to construct queries ...</td>\n",
       "      <td>Use the Primary Index</td>\n",
       "      <td>Live</td>\n",
       "      <td>577</td>\n",
       "    </tr>\n",
       "    <tr>\n",
       "      <th>971</th>\n",
       "      <td>Homepage Follow Sign in Get started * Home\\r\\n...</td>\n",
       "      <td>If you are like most data scientists, you are ...</td>\n",
       "      <td>Self-service data preparation with IBM Data Re...</td>\n",
       "      <td>Live</td>\n",
       "      <td>232</td>\n",
       "    </tr>\n",
       "  </tbody>\n",
       "</table>\n",
       "</div>"
      ],
      "text/plain": [
       "                                              doc_body  \\\n",
       "365  Follow Sign in / Sign up Home About Insight Da...   \n",
       "692  Homepage Follow Sign in / Sign up Homepage * H...   \n",
       "761  Homepage Follow Sign in Get started Homepage *...   \n",
       "970  This video shows you how to construct queries ...   \n",
       "971  Homepage Follow Sign in Get started * Home\\r\\n...   \n",
       "\n",
       "                                       doc_description  \\\n",
       "365  During the seven-week Insight Data Engineering...   \n",
       "692  One of the earliest documented catalogs was co...   \n",
       "761  Today’s world of data science leverages data f...   \n",
       "970  This video shows you how to construct queries ...   \n",
       "971  If you are like most data scientists, you are ...   \n",
       "\n",
       "                                         doc_full_name doc_status  article_id  \n",
       "365                       Graph-based machine learning       Live          50  \n",
       "692  How smart catalogs can turn the big data flood...       Live         221  \n",
       "761  Using Apache Spark as a parallel processing fr...       Live         398  \n",
       "970                              Use the Primary Index       Live         577  \n",
       "971  Self-service data preparation with IBM Data Re...       Live         232  "
      ]
     },
     "execution_count": 10,
     "metadata": {},
     "output_type": "execute_result"
    }
   ],
   "source": [
    "# Find and explore duplicate articles\n",
    "df_content[df_content.duplicated(subset=['article_id'])]"
   ]
  },
  {
   "cell_type": "code",
   "execution_count": 11,
   "metadata": {},
   "outputs": [],
   "source": [
    "# Remove any rows that have the same article_id - only keep the first\n",
    "df_content = df_content[~df_content.duplicated(subset=['article_id'], keep='first')]"
   ]
  },
  {
   "cell_type": "markdown",
   "metadata": {},
   "source": [
    "`3.` Use the cells below to find:\n",
    "\n",
    "**a.** The number of unique articles that have an interaction with a user.  \n",
    "**b.** The number of unique articles in the dataset (whether they have any interactions or not).<br>\n",
    "**c.** The number of unique users in the dataset. (excluding null values) <br>\n",
    "**d.** The number of user-article interactions in the dataset."
   ]
  },
  {
   "cell_type": "code",
   "execution_count": 12,
   "metadata": {},
   "outputs": [
    {
     "data": {
      "text/plain": [
       "714"
      ]
     },
     "execution_count": 12,
     "metadata": {},
     "output_type": "execute_result"
    }
   ],
   "source": [
    "clean_df.article_id.nunique()"
   ]
  },
  {
   "cell_type": "code",
   "execution_count": 13,
   "metadata": {},
   "outputs": [
    {
     "data": {
      "text/plain": [
       "1051"
      ]
     },
     "execution_count": 13,
     "metadata": {},
     "output_type": "execute_result"
    }
   ],
   "source": [
    "df_content.article_id.nunique()"
   ]
  },
  {
   "cell_type": "code",
   "execution_count": 14,
   "metadata": {},
   "outputs": [
    {
     "data": {
      "text/plain": [
       "5148"
      ]
     },
     "execution_count": 14,
     "metadata": {},
     "output_type": "execute_result"
    }
   ],
   "source": [
    "df.email.nunique()"
   ]
  },
  {
   "cell_type": "code",
   "execution_count": 15,
   "metadata": {},
   "outputs": [
    {
     "data": {
      "text/plain": [
       "45993"
      ]
     },
     "execution_count": 15,
     "metadata": {},
     "output_type": "execute_result"
    }
   ],
   "source": [
    "df.shape[0]"
   ]
  },
  {
   "cell_type": "code",
   "execution_count": 16,
   "metadata": {},
   "outputs": [],
   "source": [
    "unique_articles = 714 # The number of unique articles that have at least one interaction\n",
    "total_articles = 1051 # The number of unique articles on the IBM platform\n",
    "unique_users = 5148 # The number of unique users\n",
    "user_article_interactions = 45993 # The number of user-article interactions"
   ]
  },
  {
   "cell_type": "markdown",
   "metadata": {},
   "source": [
    "`4.` Use the cells below to find the most viewed **article_id**, as well as how often it was viewed.  After talking to the company leaders, the `email_mapper` function was deemed a reasonable way to map users to ids.  There were a small number of null values, and it was found that all of these null values likely belonged to a single user (which is how they are stored using the function below)."
   ]
  },
  {
   "cell_type": "code",
   "execution_count": 17,
   "metadata": {},
   "outputs": [
    {
     "data": {
      "text/html": [
       "<div>\n",
       "<style scoped>\n",
       "    .dataframe tbody tr th:only-of-type {\n",
       "        vertical-align: middle;\n",
       "    }\n",
       "\n",
       "    .dataframe tbody tr th {\n",
       "        vertical-align: top;\n",
       "    }\n",
       "\n",
       "    .dataframe thead th {\n",
       "        text-align: right;\n",
       "    }\n",
       "</style>\n",
       "<table border=\"1\" class=\"dataframe\">\n",
       "  <thead>\n",
       "    <tr style=\"text-align: right;\">\n",
       "      <th></th>\n",
       "      <th>article_id</th>\n",
       "      <th>title</th>\n",
       "      <th>email</th>\n",
       "    </tr>\n",
       "  </thead>\n",
       "  <tbody>\n",
       "    <tr>\n",
       "      <th>0</th>\n",
       "      <td>1430</td>\n",
       "      <td>using pixiedust for fast, flexible, and easier...</td>\n",
       "      <td>ef5f11f77ba020cd36e1105a00ab868bbdbf7fe7</td>\n",
       "    </tr>\n",
       "    <tr>\n",
       "      <th>1</th>\n",
       "      <td>1314</td>\n",
       "      <td>healthcare python streaming application demo</td>\n",
       "      <td>083cbdfa93c8444beaa4c5f5e0f5f9198e4f9e0b</td>\n",
       "    </tr>\n",
       "    <tr>\n",
       "      <th>2</th>\n",
       "      <td>1429</td>\n",
       "      <td>use deep learning for image classification</td>\n",
       "      <td>b96a4f2e92d8572034b1e9b28f9ac673765cd074</td>\n",
       "    </tr>\n",
       "    <tr>\n",
       "      <th>3</th>\n",
       "      <td>1338</td>\n",
       "      <td>ml optimization using cognitive assistant</td>\n",
       "      <td>06485706b34a5c9bf2a0ecdac41daf7e7654ceb7</td>\n",
       "    </tr>\n",
       "    <tr>\n",
       "      <th>4</th>\n",
       "      <td>1276</td>\n",
       "      <td>deploy your python model as a restful api</td>\n",
       "      <td>f01220c46fc92c6e6b161b1849de11faacd7ccb2</td>\n",
       "    </tr>\n",
       "  </tbody>\n",
       "</table>\n",
       "</div>"
      ],
      "text/plain": [
       "   article_id                                              title  \\\n",
       "0        1430  using pixiedust for fast, flexible, and easier...   \n",
       "1        1314       healthcare python streaming application demo   \n",
       "2        1429         use deep learning for image classification   \n",
       "3        1338          ml optimization using cognitive assistant   \n",
       "4        1276          deploy your python model as a restful api   \n",
       "\n",
       "                                      email  \n",
       "0  ef5f11f77ba020cd36e1105a00ab868bbdbf7fe7  \n",
       "1  083cbdfa93c8444beaa4c5f5e0f5f9198e4f9e0b  \n",
       "2  b96a4f2e92d8572034b1e9b28f9ac673765cd074  \n",
       "3  06485706b34a5c9bf2a0ecdac41daf7e7654ceb7  \n",
       "4  f01220c46fc92c6e6b161b1849de11faacd7ccb2  "
      ]
     },
     "execution_count": 17,
     "metadata": {},
     "output_type": "execute_result"
    }
   ],
   "source": [
    "clean_df.head()"
   ]
  },
  {
   "cell_type": "code",
   "execution_count": 18,
   "metadata": {},
   "outputs": [
    {
     "data": {
      "text/plain": [
       "article_id  title                                                                             \n",
       "1429        use deep learning for image classification                                            937\n",
       "1330        insights from new york car accident reports                                           927\n",
       "1431        visualize car data with brunel                                                        671\n",
       "1427        use xgboost, scikit-learn & ibm watson machine learning apis                          643\n",
       "1364        predicting churn with the spss random tree algorithm                                  627\n",
       "1314        healthcare python streaming application demo                                          614\n",
       "1293        finding optimal locations of new store using decision optimization                    572\n",
       "1170        apache spark lab, part 1: basic concepts                                              565\n",
       "1162        analyze energy consumption in buildings                                               512\n",
       "1304        gosales transactions for logistic regression model                                    483\n",
       "1436        welcome to pixiedust                                                                  481\n",
       "1271        customer demographics and sales                                                       473\n",
       "1398        total population by country                                                           465\n",
       "43          deep learning with tensorflow course by big data university                           460\n",
       "1351        model bike sharing data with spss                                                     457\n",
       "1393        the nurse assignment problem                                                          454\n",
       "1185        classify tumors with machine learning                                                 442\n",
       "1160        analyze accident reports on amazon emr spark                                          433\n",
       "1354        movie recommender system with spark machine learning                                  426\n",
       "1368        putting a human face on machine learning                                              418\n",
       "1305        gosales transactions for naive bayes model                                            413\n",
       "1338        ml optimization using cognitive assistant                                             382\n",
       "1336        learn basics about notebooks and apache spark                                         379\n",
       "1165        analyze precipitation data                                                            372\n",
       "1172        apache spark lab, part 3: machine learning                                            363\n",
       "151         jupyter notebook tutorial                                                             352\n",
       "1276        deploy your python model as a restful api                                             347\n",
       "1432        visualize data with the matplotlib library                                            340\n",
       "1430        using pixiedust for fast, flexible, and easier data analysis and experimentation      336\n",
       "1052        access db2 warehouse on cloud and db2 with python                                     330\n",
       "                                                                                                 ... \n",
       "1210        country statistics: electricity - from fossil fuels                                     2\n",
       "1226        country statistics: imports                                                             2\n",
       "1227        country statistics: industrial production growth rate                                   2\n",
       "1067        airbnb data for analytics: athens listings                                              2\n",
       "1230        country statistics: internet users                                                      2\n",
       "1137        airbnb data for analytics: seattle reviews                                              2\n",
       "1135        airbnb data for analytics: seattle calendar                                             2\n",
       "1235        country statistics: merchant marine                                                     2\n",
       "1251        country statistics: refined petroleum products - production                             2\n",
       "364         this week in data science (october 18, 2016)                                            2\n",
       "1130        airbnb data for analytics: san francisco listings                                       2\n",
       "1244        country statistics: population                                                          2\n",
       "1127        airbnb data for analytics: san diego listings                                           1\n",
       "675         webinar: april 11 - thinking inside the box: you can do that inside a data frame?!      1\n",
       "1119        airbnb data for analytics: oakland reviews                                              1\n",
       "653         create a connection and add it to a project using ibm data refinery                     1\n",
       "662         build deep learning architectures with neural network modeler                           1\n",
       "974         this week in data science (november 22, 2016)                                           1\n",
       "1344        measles immunization % children 12-23 months by country                                 1\n",
       "1113        airbnb data for analytics: new orleans reviews                                          1\n",
       "724         nips 2016 — day 2 highlights                                                            1\n",
       "1072        airbnb data for analytics: barcelona calendar                                           1\n",
       "1266        country surface area (sq. km)                                                           1\n",
       "1200        country statistics: crude oil - imports                                                 1\n",
       "1202        country statistics: crude oil - proved reserves                                         1\n",
       "1233        country statistics: market value of publicly traded shares                              1\n",
       "1237        country statistics: natural gas - consumption                                           1\n",
       "417         ibm data catalog overview                                                               1\n",
       "984         the data processing inequality                                                          1\n",
       "1092        airbnb data for analytics: london reviews                                               1\n",
       "Name: email, Length: 714, dtype: int64"
      ]
     },
     "execution_count": 18,
     "metadata": {},
     "output_type": "execute_result"
    }
   ],
   "source": [
    "aux = clean_df.groupby(['article_id','title']).count().email\n",
    "aux.sort_values(ascending=False)"
   ]
  },
  {
   "cell_type": "code",
   "execution_count": 19,
   "metadata": {
    "scrolled": true
   },
   "outputs": [],
   "source": [
    "aux = aux.reset_index(level='title')"
   ]
  },
  {
   "cell_type": "code",
   "execution_count": 20,
   "metadata": {},
   "outputs": [],
   "source": [
    "most_viewed_article_id = \"1429.0\" # The most viewed article in the dataset as a string with one value following the decimal \n",
    "max_views = 937 # The most viewed article in the dataset was viewed how many times?"
   ]
  },
  {
   "cell_type": "code",
   "execution_count": 21,
   "metadata": {},
   "outputs": [
    {
     "data": {
      "text/html": [
       "<div>\n",
       "<style scoped>\n",
       "    .dataframe tbody tr th:only-of-type {\n",
       "        vertical-align: middle;\n",
       "    }\n",
       "\n",
       "    .dataframe tbody tr th {\n",
       "        vertical-align: top;\n",
       "    }\n",
       "\n",
       "    .dataframe thead th {\n",
       "        text-align: right;\n",
       "    }\n",
       "</style>\n",
       "<table border=\"1\" class=\"dataframe\">\n",
       "  <thead>\n",
       "    <tr style=\"text-align: right;\">\n",
       "      <th></th>\n",
       "      <th>article_id</th>\n",
       "      <th>title</th>\n",
       "      <th>user_id</th>\n",
       "    </tr>\n",
       "  </thead>\n",
       "  <tbody>\n",
       "    <tr>\n",
       "      <th>0</th>\n",
       "      <td>1430</td>\n",
       "      <td>using pixiedust for fast, flexible, and easier...</td>\n",
       "      <td>1</td>\n",
       "    </tr>\n",
       "    <tr>\n",
       "      <th>1</th>\n",
       "      <td>1314</td>\n",
       "      <td>healthcare python streaming application demo</td>\n",
       "      <td>2</td>\n",
       "    </tr>\n",
       "    <tr>\n",
       "      <th>2</th>\n",
       "      <td>1429</td>\n",
       "      <td>use deep learning for image classification</td>\n",
       "      <td>3</td>\n",
       "    </tr>\n",
       "    <tr>\n",
       "      <th>3</th>\n",
       "      <td>1338</td>\n",
       "      <td>ml optimization using cognitive assistant</td>\n",
       "      <td>4</td>\n",
       "    </tr>\n",
       "    <tr>\n",
       "      <th>4</th>\n",
       "      <td>1276</td>\n",
       "      <td>deploy your python model as a restful api</td>\n",
       "      <td>5</td>\n",
       "    </tr>\n",
       "  </tbody>\n",
       "</table>\n",
       "</div>"
      ],
      "text/plain": [
       "   article_id                                              title  user_id\n",
       "0        1430  using pixiedust for fast, flexible, and easier...        1\n",
       "1        1314       healthcare python streaming application demo        2\n",
       "2        1429         use deep learning for image classification        3\n",
       "3        1338          ml optimization using cognitive assistant        4\n",
       "4        1276          deploy your python model as a restful api        5"
      ]
     },
     "execution_count": 21,
     "metadata": {},
     "output_type": "execute_result"
    }
   ],
   "source": [
    "## No need to change the code here - this will be helpful for later parts of the notebook\n",
    "# Run this cell to map the user email to a user_id column and remove the email column\n",
    "\n",
    "def email_mapper(df):\n",
    "    \"\"\"\n",
    "    Description:\n",
    "        Map the user email to ids.\n",
    "\n",
    "    Args:\n",
    "        df (dataframe): user-item interactions dataframe\n",
    "\n",
    "    Returns:\n",
    "        email_encoded (list): a list of the ids\n",
    "    \"\"\"\n",
    "    \n",
    "    coded_dict = dict()\n",
    "    cter = 1\n",
    "    email_encoded = []\n",
    "    \n",
    "    for val in df['email']:\n",
    "        if val not in coded_dict:\n",
    "            coded_dict[val] = cter\n",
    "            cter+=1\n",
    "        \n",
    "        email_encoded.append(coded_dict[val])\n",
    "    return email_encoded\n",
    "\n",
    "email_encoded = email_mapper(df)\n",
    "del df['email']\n",
    "df['user_id'] = email_encoded\n",
    "\n",
    "# show header\n",
    "df.head()"
   ]
  },
  {
   "cell_type": "code",
   "execution_count": 22,
   "metadata": {},
   "outputs": [
    {
     "name": "stdout",
     "output_type": "stream",
     "text": [
      "It looks like you have everything right here! Nice job!\n"
     ]
    }
   ],
   "source": [
    "## If you stored all your results in the variable names above, \n",
    "## you shouldn't need to change anything in this cell\n",
    "\n",
    "sol_1_dict = {\n",
    "    '`50% of individuals have _____ or fewer interactions.`': median_val,\n",
    "    '`The total number of user-article interactions in the dataset is ______.`': user_article_interactions,\n",
    "    '`The maximum number of user-article interactions by any 1 user is ______.`': max_views_by_user,\n",
    "    '`The most viewed article in the dataset was viewed _____ times.`': max_views,\n",
    "    '`The article_id of the most viewed article is ______.`': most_viewed_article_id,\n",
    "    '`The number of unique articles that have at least 1 rating ______.`': unique_articles,\n",
    "    '`The number of unique users in the dataset is ______`': unique_users,\n",
    "    '`The number of unique articles on the IBM platform`': total_articles\n",
    "}\n",
    "\n",
    "# Test your dictionary against the solution\n",
    "t.sol_1_test(sol_1_dict)"
   ]
  },
  {
   "cell_type": "markdown",
   "metadata": {},
   "source": [
    "Let's do that cleaning again, but this time define a function to cover the entire process; this will come in handy later."
   ]
  },
  {
   "cell_type": "code",
   "execution_count": 23,
   "metadata": {},
   "outputs": [],
   "source": [
    "df = pd.read_csv('data/user-item-interactions.csv')\n",
    "del df['Unnamed: 0']\n",
    "del clean_df"
   ]
  },
  {
   "cell_type": "code",
   "execution_count": 24,
   "metadata": {},
   "outputs": [
    {
     "data": {
      "text/html": [
       "<div>\n",
       "<style scoped>\n",
       "    .dataframe tbody tr th:only-of-type {\n",
       "        vertical-align: middle;\n",
       "    }\n",
       "\n",
       "    .dataframe tbody tr th {\n",
       "        vertical-align: top;\n",
       "    }\n",
       "\n",
       "    .dataframe thead th {\n",
       "        text-align: right;\n",
       "    }\n",
       "</style>\n",
       "<table border=\"1\" class=\"dataframe\">\n",
       "  <thead>\n",
       "    <tr style=\"text-align: right;\">\n",
       "      <th></th>\n",
       "      <th>article_id</th>\n",
       "      <th>title</th>\n",
       "      <th>user_id</th>\n",
       "    </tr>\n",
       "  </thead>\n",
       "  <tbody>\n",
       "    <tr>\n",
       "      <th>0</th>\n",
       "      <td>1430</td>\n",
       "      <td>using pixiedust for fast, flexible, and easier...</td>\n",
       "      <td>1</td>\n",
       "    </tr>\n",
       "    <tr>\n",
       "      <th>1</th>\n",
       "      <td>1314</td>\n",
       "      <td>healthcare python streaming application demo</td>\n",
       "      <td>2</td>\n",
       "    </tr>\n",
       "    <tr>\n",
       "      <th>2</th>\n",
       "      <td>1429</td>\n",
       "      <td>use deep learning for image classification</td>\n",
       "      <td>3</td>\n",
       "    </tr>\n",
       "    <tr>\n",
       "      <th>3</th>\n",
       "      <td>1338</td>\n",
       "      <td>ml optimization using cognitive assistant</td>\n",
       "      <td>4</td>\n",
       "    </tr>\n",
       "    <tr>\n",
       "      <th>4</th>\n",
       "      <td>1276</td>\n",
       "      <td>deploy your python model as a restful api</td>\n",
       "      <td>5</td>\n",
       "    </tr>\n",
       "  </tbody>\n",
       "</table>\n",
       "</div>"
      ],
      "text/plain": [
       "   article_id                                              title  user_id\n",
       "0        1430  using pixiedust for fast, flexible, and easier...        1\n",
       "1        1314       healthcare python streaming application demo        2\n",
       "2        1429         use deep learning for image classification        3\n",
       "3        1338          ml optimization using cognitive assistant        4\n",
       "4        1276          deploy your python model as a restful api        5"
      ]
     },
     "execution_count": 24,
     "metadata": {},
     "output_type": "execute_result"
    }
   ],
   "source": [
    "def clean_data(df):\n",
    "    \"\"\"\n",
    "    Description:\n",
    "        Clean the user-item interactions dataframe.\n",
    "\n",
    "    Args:\n",
    "        df (dataframe): user-item interactions dataframe\n",
    "\n",
    "    Returns:\n",
    "        clean_df (list): user-item interactions dataframe cleaned\n",
    "    \"\"\"\n",
    "\n",
    "    # Change type \n",
    "    df.article_id = df.article_id.astype('int64')\n",
    "    \n",
    "    # Replace e-mail with user_id\n",
    "    email_encoded = email_mapper(df)\n",
    "    del df['email']\n",
    "    df['user_id'] = email_encoded\n",
    "    \n",
    "    clean_df = df\n",
    "    \n",
    "    return clean_df\n",
    "\n",
    "clean_df = clean_data(df)\n",
    "\n",
    "clean_df.head()"
   ]
  },
  {
   "cell_type": "markdown",
   "metadata": {},
   "source": [
    "### <a class=\"anchor\" id=\"Rank\">Part II: Rank-Based Recommendations</a>\n",
    "\n",
    "We don't actually have ratings for whether a user liked an article or not.  We only know that a user has interacted with an article.  In these cases, the popularity of an article can really only be based on how often an article was interacted with.\n",
    "\n",
    "`1.` Fill in the function below to return the **n** top articles ordered with most interactions as the top. Test your function using the tests below."
   ]
  },
  {
   "cell_type": "code",
   "execution_count": 25,
   "metadata": {},
   "outputs": [
    {
     "name": "stdout",
     "output_type": "stream",
     "text": [
      "['use deep learning for image classification', 'insights from new york car accident reports', 'visualize car data with brunel', 'use xgboost, scikit-learn & ibm watson machine learning apis', 'predicting churn with the spss random tree algorithm']\n"
     ]
    }
   ],
   "source": [
    "def get_top_articles(n, df=clean_df):\n",
    "    \"\"\"\n",
    "    Description:\n",
    "        Return n top articles titles ordered with most interactions as the top.\n",
    "\n",
    "    Args:\n",
    "        n (int): the number of top articles to return\n",
    "        df (dataframe): user-item interactions dataframe\n",
    "\n",
    "    Returns:\n",
    "        top_articles (list): a list of the top 'n' article titles \n",
    "    \"\"\"\n",
    "    \n",
    "    # Ranking of interactions per article \n",
    "    aux = clean_df.groupby(['article_id','title']).count().user_id\n",
    "    aux = aux.sort_values(ascending=False)\n",
    "    \n",
    "    aux = aux.reset_index(level='title')\n",
    "    \n",
    "    top_articles = aux.iloc[:n,0]\n",
    "    \n",
    "    # Return the top article titles from user-item dataframe\n",
    "    return list(top_articles)\n",
    "\n",
    "print(get_top_articles(5, clean_df))"
   ]
  },
  {
   "cell_type": "code",
   "execution_count": 26,
   "metadata": {},
   "outputs": [
    {
     "name": "stdout",
     "output_type": "stream",
     "text": [
      "[1429, 1330, 1431, 1427, 1364]\n"
     ]
    }
   ],
   "source": [
    "def get_top_article_ids(n, df=clean_df):\n",
    "    \"\"\"\n",
    "    Description:\n",
    "        Return n top articles ids ordered with most interactions as the top.\n",
    "\n",
    "    Args:\n",
    "        n (int): the number of top articles to return\n",
    "        df (dataframe): user-item interactions dataframe\n",
    "\n",
    "    Returns:\n",
    "        top_articles (list): a list of the top 'n' article ids \n",
    "    \"\"\"\n",
    "    \n",
    "    # Ranking of interactions per article \n",
    "    aux = clean_df.groupby(['article_id','title']).count().user_id\n",
    "    aux = aux.sort_values(ascending=False)\n",
    "    \n",
    "    aux = aux.reset_index(level='article_id')\n",
    "    \n",
    "    top_articles = aux.iloc[:n,0]\n",
    "    \n",
    "    # Return the top article ids from user-item dataframe\n",
    "    return list(top_articles)\n",
    "\n",
    "print(get_top_article_ids(5, clean_df))"
   ]
  },
  {
   "cell_type": "code",
   "execution_count": 27,
   "metadata": {},
   "outputs": [
    {
     "name": "stdout",
     "output_type": "stream",
     "text": [
      "['use deep learning for image classification', 'insights from new york car accident reports', 'visualize car data with brunel', 'use xgboost, scikit-learn & ibm watson machine learning apis', 'predicting churn with the spss random tree algorithm', 'healthcare python streaming application demo', 'finding optimal locations of new store using decision optimization', 'apache spark lab, part 1: basic concepts', 'analyze energy consumption in buildings', 'gosales transactions for logistic regression model']\n",
      "[1429, 1330, 1431, 1427, 1364, 1314, 1293, 1170, 1162, 1304]\n"
     ]
    }
   ],
   "source": [
    "print(get_top_articles(10, clean_df))\n",
    "print(get_top_article_ids(10, clean_df))"
   ]
  },
  {
   "cell_type": "code",
   "execution_count": 28,
   "metadata": {},
   "outputs": [
    {
     "name": "stdout",
     "output_type": "stream",
     "text": [
      "Your top_5 looks like the solution list! Nice job.\n",
      "Your top_10 looks like the solution list! Nice job.\n",
      "Your top_20 looks like the solution list! Nice job.\n"
     ]
    }
   ],
   "source": [
    "# Test your function by returning the top 5, 10, and 20 articles\n",
    "top_5 = get_top_articles(5, clean_df)\n",
    "top_10 = get_top_articles(10, clean_df)\n",
    "top_20 = get_top_articles(20, clean_df)\n",
    "\n",
    "# Test each of your three lists from above\n",
    "t.sol_2_test(get_top_articles)"
   ]
  },
  {
   "cell_type": "markdown",
   "metadata": {},
   "source": [
    "### <a class=\"anchor\" id=\"User-User\">Part III: User-User Based Collaborative Filtering</a>\n",
    "\n",
    "\n",
    "`1.` Use the function below to reformat the **df** dataframe to be shaped with users as the rows and articles as the columns.  \n",
    "\n",
    "* Each **user** should only appear in each **row** once.\n",
    "\n",
    "\n",
    "* Each **article** should only show up in one **column**.  \n",
    "\n",
    "\n",
    "* **If a user has interacted with an article, then place a 1 where the user-row meets for that article-column**.  It does not matter how many times a user has interacted with the article, all entries where a user has interacted with an article should be a 1.  \n",
    "\n",
    "\n",
    "* **If a user has not interacted with an item, then place a zero where the user-row meets for that article-column**. \n",
    "\n",
    "Use the tests to make sure the basic structure of your matrix matches what is expected by the solution."
   ]
  },
  {
   "cell_type": "markdown",
   "metadata": {},
   "source": [
    "Let's see "
   ]
  },
  {
   "cell_type": "code",
   "execution_count": 29,
   "metadata": {},
   "outputs": [
    {
     "data": {
      "text/plain": [
       "user_id  article_id\n",
       "1        43            1\n",
       "         109           1\n",
       "         151           1\n",
       "         268           1\n",
       "         310           2\n",
       "         329           1\n",
       "         346           1\n",
       "         390           1\n",
       "         494           1\n",
       "         525           1\n",
       "         585           2\n",
       "         626           1\n",
       "         668           2\n",
       "         732           1\n",
       "         768           1\n",
       "         910           1\n",
       "         968           1\n",
       "         981           1\n",
       "         1052          2\n",
       "         1170          2\n",
       "         1183          2\n",
       "         1185          2\n",
       "         1232          1\n",
       "         1293          1\n",
       "         1305          1\n",
       "         1363          2\n",
       "         1368          1\n",
       "         1391          1\n",
       "         1400          1\n",
       "         1406          2\n",
       "         1427          1\n",
       "         1429          1\n",
       "         1430          2\n",
       "         1431          2\n",
       "         1436          1\n",
       "         1439          1\n",
       "2        1024          1\n",
       "         1176          1\n",
       "         1305          1\n",
       "         1314          1\n",
       "         1422          1\n",
       "         1427          1\n",
       "3        12            1\n",
       "         20            1\n",
       "         29            1\n",
       "         43            1\n",
       "         50            2\n",
       "         62            1\n",
       "         109           1\n",
       "         116           1\n",
       "Name: title, dtype: int64"
      ]
     },
     "execution_count": 29,
     "metadata": {},
     "output_type": "execute_result"
    }
   ],
   "source": [
    "user_items = clean_df.copy()\n",
    "\n",
    "# Grouping by user_id, then by article_id and count.\n",
    "user_by_item = user_items.groupby(['user_id', 'article_id'])['title'].count()\n",
    "\n",
    "user_by_item.head(50)"
   ]
  },
  {
   "cell_type": "code",
   "execution_count": 30,
   "metadata": {},
   "outputs": [],
   "source": [
    "# create the user-article matrix with 1's and 0's\n",
    "\n",
    "def create_user_item_matrix(df=clean_df):\n",
    "    \"\"\"\n",
    "    Description:\n",
    "        Return a matrix with user ids as rows and article ids as columns, \n",
    "        with 1 values where a user interacted with an article and 0 otherwise.\n",
    "\n",
    "    Args:\n",
    "        df (dataframe): user-item interactions dataframe\n",
    "\n",
    "    Returns:\n",
    "        user_item (dataframe): user item matrix\n",
    "    \"\"\"\n",
    "    \n",
    "    # Duplicated rows in user-item interactions \n",
    "    # We should remove duplicated rows because it makes no difference how many times a user interacts with the article. \n",
    "    # All entries in which a user has interacted with an article should be counted as only one.\n",
    "    \n",
    "    user_item = df.groupby([\"user_id\", \"article_id\"])[\"title\"].max().unstack()\n",
    "    user_item = user_item.notnull().astype(int)\n",
    "    \n",
    "    return user_item \n",
    "\n",
    "user_item = create_user_item_matrix(clean_df)"
   ]
  },
  {
   "cell_type": "code",
   "execution_count": 31,
   "metadata": {
    "scrolled": true
   },
   "outputs": [
    {
     "name": "stdout",
     "output_type": "stream",
     "text": [
      "<class 'pandas.core.frame.DataFrame'>\n",
      "Int64Index: 5149 entries, 1 to 5149\n",
      "Columns: 714 entries, 0 to 1444\n",
      "dtypes: int64(714)\n",
      "memory usage: 28.1 MB\n"
     ]
    }
   ],
   "source": [
    "# Check user-item info\n",
    "user_item.info()"
   ]
  },
  {
   "cell_type": "code",
   "execution_count": 32,
   "metadata": {},
   "outputs": [
    {
     "name": "stdout",
     "output_type": "stream",
     "text": [
      "You have passed our quick tests!  Please proceed!\n"
     ]
    }
   ],
   "source": [
    "## Tests: You should just need to run this cell.  Don't change the code.\n",
    "assert user_item.shape[0] == 5149, \"Oops!  The number of users in the user-article matrix doesn't look right.\"\n",
    "assert user_item.shape[1] == 714, \"Oops!  The number of articles in the user-article matrix doesn't look right.\"\n",
    "assert user_item.sum(axis=1)[1] == 36, \"Oops!  The number of articles seen by user 1 doesn't look right.\"\n",
    "print(\"You have passed our quick tests!  Please proceed!\")"
   ]
  },
  {
   "cell_type": "markdown",
   "metadata": {},
   "source": [
    "`2.` Complete the function below which should take a user_id and provide an ordered list of the most similar users to that user (from most similar to least similar).  The returned result should not contain the provided user_id, as we know that each user is similar to him/herself. Because the results for each user here are binary, it (perhaps) makes sense to compute similarity as the dot product of two users. \n",
    "\n",
    "Use the tests to test your function."
   ]
  },
  {
   "cell_type": "code",
   "execution_count": 33,
   "metadata": {},
   "outputs": [
    {
     "data": {
      "text/html": [
       "<div>\n",
       "<style scoped>\n",
       "    .dataframe tbody tr th:only-of-type {\n",
       "        vertical-align: middle;\n",
       "    }\n",
       "\n",
       "    .dataframe tbody tr th {\n",
       "        vertical-align: top;\n",
       "    }\n",
       "\n",
       "    .dataframe thead th {\n",
       "        text-align: right;\n",
       "    }\n",
       "</style>\n",
       "<table border=\"1\" class=\"dataframe\">\n",
       "  <thead>\n",
       "    <tr style=\"text-align: right;\">\n",
       "      <th>article_id</th>\n",
       "      <th>0</th>\n",
       "      <th>2</th>\n",
       "      <th>4</th>\n",
       "      <th>8</th>\n",
       "      <th>9</th>\n",
       "      <th>12</th>\n",
       "      <th>14</th>\n",
       "      <th>15</th>\n",
       "      <th>16</th>\n",
       "      <th>18</th>\n",
       "      <th>...</th>\n",
       "      <th>1434</th>\n",
       "      <th>1435</th>\n",
       "      <th>1436</th>\n",
       "      <th>1437</th>\n",
       "      <th>1439</th>\n",
       "      <th>1440</th>\n",
       "      <th>1441</th>\n",
       "      <th>1442</th>\n",
       "      <th>1443</th>\n",
       "      <th>1444</th>\n",
       "    </tr>\n",
       "    <tr>\n",
       "      <th>user_id</th>\n",
       "      <th></th>\n",
       "      <th></th>\n",
       "      <th></th>\n",
       "      <th></th>\n",
       "      <th></th>\n",
       "      <th></th>\n",
       "      <th></th>\n",
       "      <th></th>\n",
       "      <th></th>\n",
       "      <th></th>\n",
       "      <th></th>\n",
       "      <th></th>\n",
       "      <th></th>\n",
       "      <th></th>\n",
       "      <th></th>\n",
       "      <th></th>\n",
       "      <th></th>\n",
       "      <th></th>\n",
       "      <th></th>\n",
       "      <th></th>\n",
       "      <th></th>\n",
       "    </tr>\n",
       "  </thead>\n",
       "  <tbody>\n",
       "    <tr>\n",
       "      <th>1</th>\n",
       "      <td>0</td>\n",
       "      <td>0</td>\n",
       "      <td>0</td>\n",
       "      <td>0</td>\n",
       "      <td>0</td>\n",
       "      <td>0</td>\n",
       "      <td>0</td>\n",
       "      <td>0</td>\n",
       "      <td>0</td>\n",
       "      <td>0</td>\n",
       "      <td>...</td>\n",
       "      <td>0</td>\n",
       "      <td>0</td>\n",
       "      <td>1</td>\n",
       "      <td>0</td>\n",
       "      <td>1</td>\n",
       "      <td>0</td>\n",
       "      <td>0</td>\n",
       "      <td>0</td>\n",
       "      <td>0</td>\n",
       "      <td>0</td>\n",
       "    </tr>\n",
       "    <tr>\n",
       "      <th>2</th>\n",
       "      <td>0</td>\n",
       "      <td>0</td>\n",
       "      <td>0</td>\n",
       "      <td>0</td>\n",
       "      <td>0</td>\n",
       "      <td>0</td>\n",
       "      <td>0</td>\n",
       "      <td>0</td>\n",
       "      <td>0</td>\n",
       "      <td>0</td>\n",
       "      <td>...</td>\n",
       "      <td>0</td>\n",
       "      <td>0</td>\n",
       "      <td>0</td>\n",
       "      <td>0</td>\n",
       "      <td>0</td>\n",
       "      <td>0</td>\n",
       "      <td>0</td>\n",
       "      <td>0</td>\n",
       "      <td>0</td>\n",
       "      <td>0</td>\n",
       "    </tr>\n",
       "    <tr>\n",
       "      <th>3</th>\n",
       "      <td>0</td>\n",
       "      <td>0</td>\n",
       "      <td>0</td>\n",
       "      <td>0</td>\n",
       "      <td>0</td>\n",
       "      <td>1</td>\n",
       "      <td>0</td>\n",
       "      <td>0</td>\n",
       "      <td>0</td>\n",
       "      <td>0</td>\n",
       "      <td>...</td>\n",
       "      <td>0</td>\n",
       "      <td>0</td>\n",
       "      <td>1</td>\n",
       "      <td>0</td>\n",
       "      <td>0</td>\n",
       "      <td>0</td>\n",
       "      <td>0</td>\n",
       "      <td>0</td>\n",
       "      <td>0</td>\n",
       "      <td>0</td>\n",
       "    </tr>\n",
       "    <tr>\n",
       "      <th>4</th>\n",
       "      <td>0</td>\n",
       "      <td>0</td>\n",
       "      <td>0</td>\n",
       "      <td>0</td>\n",
       "      <td>0</td>\n",
       "      <td>0</td>\n",
       "      <td>0</td>\n",
       "      <td>0</td>\n",
       "      <td>0</td>\n",
       "      <td>0</td>\n",
       "      <td>...</td>\n",
       "      <td>0</td>\n",
       "      <td>0</td>\n",
       "      <td>0</td>\n",
       "      <td>0</td>\n",
       "      <td>0</td>\n",
       "      <td>0</td>\n",
       "      <td>0</td>\n",
       "      <td>0</td>\n",
       "      <td>0</td>\n",
       "      <td>0</td>\n",
       "    </tr>\n",
       "    <tr>\n",
       "      <th>5</th>\n",
       "      <td>0</td>\n",
       "      <td>0</td>\n",
       "      <td>0</td>\n",
       "      <td>0</td>\n",
       "      <td>0</td>\n",
       "      <td>0</td>\n",
       "      <td>0</td>\n",
       "      <td>0</td>\n",
       "      <td>0</td>\n",
       "      <td>0</td>\n",
       "      <td>...</td>\n",
       "      <td>0</td>\n",
       "      <td>0</td>\n",
       "      <td>0</td>\n",
       "      <td>0</td>\n",
       "      <td>0</td>\n",
       "      <td>0</td>\n",
       "      <td>0</td>\n",
       "      <td>0</td>\n",
       "      <td>0</td>\n",
       "      <td>0</td>\n",
       "    </tr>\n",
       "  </tbody>\n",
       "</table>\n",
       "<p>5 rows × 714 columns</p>\n",
       "</div>"
      ],
      "text/plain": [
       "article_id  0     2     4     8     9     12    14    15    16    18    ...   \\\n",
       "user_id                                                                 ...    \n",
       "1              0     0     0     0     0     0     0     0     0     0  ...    \n",
       "2              0     0     0     0     0     0     0     0     0     0  ...    \n",
       "3              0     0     0     0     0     1     0     0     0     0  ...    \n",
       "4              0     0     0     0     0     0     0     0     0     0  ...    \n",
       "5              0     0     0     0     0     0     0     0     0     0  ...    \n",
       "\n",
       "article_id  1434  1435  1436  1437  1439  1440  1441  1442  1443  1444  \n",
       "user_id                                                                 \n",
       "1              0     0     1     0     1     0     0     0     0     0  \n",
       "2              0     0     0     0     0     0     0     0     0     0  \n",
       "3              0     0     1     0     0     0     0     0     0     0  \n",
       "4              0     0     0     0     0     0     0     0     0     0  \n",
       "5              0     0     0     0     0     0     0     0     0     0  \n",
       "\n",
       "[5 rows x 714 columns]"
      ]
     },
     "execution_count": 33,
     "metadata": {},
     "output_type": "execute_result"
    }
   ],
   "source": [
    "# Visualize the user-item (user-articles) matrix\n",
    "user_item.head()"
   ]
  },
  {
   "cell_type": "code",
   "execution_count": 34,
   "metadata": {},
   "outputs": [],
   "source": [
    "def find_similar_users(user_id, user_item=user_item):\n",
    "    \"\"\"\n",
    "    Description:\n",
    "        Based on the dot product, computes the similarity of each pair of users.\n",
    "    \n",
    "    Args:\n",
    "        user_id (int): a user_id\n",
    "        user_item (dataframe): matrix of users by articles (1's when a user has interacted with an article, 0 otherwise).\n",
    "\n",
    "    Returns:\n",
    "        similar_users (list): an ordered list where the closest users (largest dot product users) are listed first\n",
    "    \"\"\"\n",
    "               \n",
    "    # Calculate each user's resemblance to the provided user.\n",
    "    user_sim = {}\n",
    "    \n",
    "    for x in range(1, user_item.shape[0]):\n",
    "        user_sim[x] = np.dot(user_item.loc[user_id], user_item.loc[x])\n",
    "\n",
    "    # Sorting by similarity\n",
    "    user_sim = sorted(user_sim.items(), key = lambda x: x[1], reverse = True)\n",
    "\n",
    "    # Create a list that only includes the ids.\n",
    "    ids = [sim[0] for sim in user_sim]\n",
    "  \n",
    "    # Get rid of your own user id.\n",
    "    most_similar_users = [_id_ for _id_ in ids if _id_ != user_id]\n",
    "        \n",
    "    # Return a list of users in descending order of similarity.\n",
    "    return most_similar_users\n",
    "        "
   ]
  },
  {
   "cell_type": "code",
   "execution_count": 35,
   "metadata": {},
   "outputs": [
    {
     "name": "stdout",
     "output_type": "stream",
     "text": [
      "The 10 most similar users to user 1 are: [3933, 23, 3782, 203, 4459, 131, 3870, 46, 4201, 49]\n",
      "The 5 most similar users to user 3933 are: [1, 23, 3782, 203, 4459]\n",
      "The 3 most similar users to user 46 are: [4201, 23, 3782]\n"
     ]
    }
   ],
   "source": [
    "# Do a spot check of your function\n",
    "print(\"The 10 most similar users to user 1 are: {}\".format(find_similar_users(1)[:10]))\n",
    "print(\"The 5 most similar users to user 3933 are: {}\".format(find_similar_users(3933)[:5]))\n",
    "print(\"The 3 most similar users to user 46 are: {}\".format(find_similar_users(46)[:3]))"
   ]
  },
  {
   "cell_type": "markdown",
   "metadata": {},
   "source": [
    "`3.` Now that you have a function that provides the most similar users to each user, you will want to use these users to find articles you can recommend.  Complete the functions below to return the articles you would recommend to each user. "
   ]
  },
  {
   "cell_type": "code",
   "execution_count": 36,
   "metadata": {},
   "outputs": [],
   "source": [
    "def get_article_names(article_ids, df=clean_df):\n",
    "    \"\"\"\n",
    "    Description:\n",
    "        Return the articles names you would recommend to each user.\n",
    "    \n",
    "    Args:\n",
    "        article_ids (list): a list of article ids\n",
    "        df (dataframe): df as defined at the top of the notebook\n",
    "\n",
    "    Returns:\n",
    "        article_names (list): a list of article names associated with the list of article ids\n",
    "    \"\"\"\n",
    "    \n",
    "    articles = clean_df[clean_df['article_id'].isin(article_ids)]['title'].unique()\n",
    "    article_names = articles.tolist()\n",
    "    \n",
    "    # Return the article names that correspond to the list of article ids.\n",
    "    return article_names\n",
    "\n",
    "\n",
    "def get_user_articles(user_id, user_item=user_item):\n",
    "    \"\"\"\n",
    "    Description:\n",
    "        Return the articles names that a user seen.\n",
    "    \n",
    "    Args:\n",
    "        user_id (int): a user id\n",
    "        user_item (dataframe): matrix of users by articles.\n",
    "\n",
    "    Returns:\n",
    "        article_ids (list): a list of the article ids seen by the user\n",
    "        article_names (list): a list of article names associated with the list of article ids \n",
    "    \"\"\"\n",
    "    \n",
    "    n_art = len(user_item.loc[user_id])\n",
    "    \n",
    "    article_ids = []\n",
    "    for i in range(n_art):\n",
    "        if int(user_item.loc[user_id].values[i]):\n",
    "            article_ids.append(str(user_item.loc[user_id].index[i]))\n",
    "    \n",
    "\n",
    "    article_names = get_article_names(article_ids)\n",
    "    \n",
    "    return article_ids, article_names\n",
    "\n",
    "\n",
    "def user_user_recs(user_id, m=10, df=clean_df):\n",
    "    \"\"\"\n",
    "    Description:\n",
    "        Loops through the users based on their proximity to the input user id. For each user - finds \n",
    "        articles that the user hasn't seen before and recommends them. This is repeated until m recommendations are found.\n",
    "    \n",
    "    Args:\n",
    "        user_id (int): a user id\n",
    "        m (int): the number of recommendations you want for the user\n",
    "\n",
    "    Returns:\n",
    "        recs (list): a list of recommendations for the user\n",
    "        \n",
    "    Notes:\n",
    "    * Users who are the same closeness are chosen arbitrarily as the 'next' user.\n",
    "        \n",
    "    * For the user where the number of recommended articles starts below m \n",
    "      and ends exceeding m, the last items are chosen arbitrarily.\n",
    "    \"\"\"\n",
    "    \n",
    "    similar_users = find_similar_users(user_id)\n",
    "    \n",
    "    recs = []\n",
    "    for user in similar_users:\n",
    "            for article in df[df['user_id']  == user]['article_id'].tolist():\n",
    "                if len(recs) < m:\n",
    "                    user_seen = get_user_articles(user_id)[0]\n",
    "                    if len(recs) < m & article not in user_seen:\n",
    "                        recs.append(article)\n",
    "                \n",
    "    if len(recs) < m:\n",
    "        a = numpy.random.choice(df['article_id'].values, size=1, replace=False)\n",
    "        recs.append(df[df['article_id'] == a]['article_id'])\n",
    "    \n",
    "    # Return your recommendations for this user id.    \n",
    "    return recs"
   ]
  },
  {
   "cell_type": "code",
   "execution_count": 37,
   "metadata": {},
   "outputs": [
    {
     "data": {
      "text/plain": [
       "['gosales transactions for naive bayes model',\n",
       " 'welcome to pixiedust',\n",
       " 'uci ml repository: chronic kidney disease data set',\n",
       " 'deep learning with tensorflow course by big data university',\n",
       " 'rapidly build machine learning flows with dsx',\n",
       " 'sudoku',\n",
       " 'tidyverse practice: mapping large european cities',\n",
       " 'fighting gerrymandering: using data science to draw fairer congressional districts',\n",
       " 'working with ibm cloud object storage in r',\n",
       " 'predict loan applicant behavior with tensorflow neural networking']"
      ]
     },
     "execution_count": 37,
     "metadata": {},
     "output_type": "execute_result"
    }
   ],
   "source": [
    "# Check Results\n",
    "get_article_names(user_user_recs(1, 10)) # Return 10 recommendations for user 1"
   ]
  },
  {
   "cell_type": "code",
   "execution_count": 38,
   "metadata": {},
   "outputs": [
    {
     "name": "stdout",
     "output_type": "stream",
     "text": [
      "If this is all you see, you passed all of our tests!  Nice job!\n"
     ]
    }
   ],
   "source": [
    "# Test your functions here - No need to change this code - just run this cell\n",
    "assert set(get_article_names(['1024', '1176', '1305', '1314', '1422', '1427'])) == set(['using deep learning to reconstruct high-resolution audio', 'build a python app on the streaming analytics service', 'gosales transactions for naive bayes model', 'healthcare python streaming application demo', 'use r dataframes & ibm watson natural language understanding', 'use xgboost, scikit-learn & ibm watson machine learning apis']), \"Oops! Your the get_article_names function doesn't work quite how we expect.\"\n",
    "assert set(get_article_names(['1320', '232', '844'])) == set(['housing (2015): united states demographic measures','self-service data preparation with ibm data refinery','use the cloudant-spark connector in python notebook']), \"Oops! Your the get_article_names function doesn't work quite how we expect.\"\n",
    "assert set(get_user_articles(20)[0]) == set(['1320', '232', '844'])\n",
    "assert set(get_user_articles(20)[1]) == set(['housing (2015): united states demographic measures', 'self-service data preparation with ibm data refinery','use the cloudant-spark connector in python notebook'])\n",
    "assert set(get_user_articles(2)[0]) == set(['1024', '1176', '1305', '1314', '1422', '1427'])\n",
    "assert set(get_user_articles(2)[1]) == set(['using deep learning to reconstruct high-resolution audio', 'build a python app on the streaming analytics service', 'gosales transactions for naive bayes model', 'healthcare python streaming application demo', 'use r dataframes & ibm watson natural language understanding', 'use xgboost, scikit-learn & ibm watson machine learning apis'])\n",
    "print(\"If this is all you see, you passed all of our tests!  Nice job!\")"
   ]
  },
  {
   "cell_type": "markdown",
   "metadata": {},
   "source": [
    "`4.` Now we are going to improve the consistency of the **user_user_recs** function from above.  \n",
    "\n",
    "* Instead of arbitrarily choosing when we obtain users who are all the same closeness to a given user - choose the users that have the most total article interactions before choosing those with fewer article interactions.\n",
    "\n",
    "\n",
    "* Instead of arbitrarily choosing articles from the user where the number of recommended articles starts below m and ends exceeding m, choose articles with the articles with the most total interactions before choosing those with fewer total interactions. This ranking should be  what would be obtained from the **top_articles** function you wrote earlier."
   ]
  },
  {
   "cell_type": "code",
   "execution_count": 39,
   "metadata": {},
   "outputs": [],
   "source": [
    "def get_top_sorted_users(user_id, df=clean_df, user_item=user_item):\n",
    "    \"\"\"\n",
    "    Description:\n",
    "        Sort the neighbors_df by the similarity and then by number of interactions where \n",
    "        highest of each is higher in the dataframe.\n",
    "    \n",
    "    Args:\n",
    "        user_id (int): a user id\n",
    "        df (dataframe): df as defined at the top of the notebook\n",
    "        user_item (dataframe): matrix of users by articles\n",
    "        \n",
    "    Returns:\n",
    "        neighbors_df (dataframe): a dataframe with neighbor_id - is a neighbor user_id;\n",
    "                                                   similarity - measure of the similarity of each user to the provided user_id;\n",
    "                                                   num_interactions - the number of articles viewed by the user - if a u.\n",
    "    \"\"\"\n",
    "    \n",
    "    # using `user_item` will count all interactions as one interaction so we are using `df`\n",
    "    df_article_views  = df.user_id.value_counts() \n",
    "    \n",
    "    #get number of interactions for each user\n",
    "    df_article_views = df_article_views.to_frame('num_interactions')\n",
    "    \n",
    "    # Computing similarity\n",
    "    similarity = user_item.dot(user_item.loc[user_id])\n",
    "    similarity = similarity.sort_values(ascending=False)\n",
    "    similarity = similarity.drop(user_id).to_frame(name='similarity')\n",
    "    similarity = similarity.reset_index()\n",
    "    \n",
    "    # dataframe with users sorted by closest followed by most articles viewed\n",
    "    neighbors_df = similarity.merge(df_article_views , left_on='user_id', right_index=True)\n",
    "    neighbors_df = neighbors_df.rename(columns={'user_id':'neighbor_id'})\n",
    "    neighbors_df.sort_values(by=['similarity', 'num_interactions'], ascending=False)\n",
    "    \n",
    "    # Return the dataframe specified in the doc_string\n",
    "    return neighbors_df\n",
    "\n",
    "\n",
    "def user_user_recs_part2(user_id, m=10, df=clean_df):\n",
    "    \"\"\"\n",
    "    Description:\n",
    "        Loops through the users based on their proximity to the input user id. For each user - finds \n",
    "        articles that the user hasn't seen before and recommends them. This is repeated until m recommendations are found.\n",
    "    \n",
    "    Args:\n",
    "        user_id (int): a user id\n",
    "        m (int): the number of recommendations you want for the user\n",
    "\n",
    "    Returns:\n",
    "        recs (list): a list of recommendations for the user\n",
    "        rec_names (list): a list of recommendations for the user by article title\n",
    "        \n",
    "    Notes:\n",
    "    * Choose the users that have the most total article interactions \n",
    "    before choosing those with fewer article interactions.\n",
    "\n",
    "    * Choose articles with the articles with the most total interactions \n",
    "    before choosing those with fewer total interactions. \n",
    "    \"\"\"\n",
    "    \n",
    "    similar_users = get_top_sorted_users(user_id)['neighbor_id']\n",
    "    \n",
    "    recs = []\n",
    "    for user in similar_users:\n",
    "            for article in df[df['user_id'] == user]['article_id'].tolist():\n",
    "                if len(recs) < m:\n",
    "                    user_seen = get_user_articles(user_id)[0]\n",
    "                    if len(recs) < m & article not in user_seen:\n",
    "                        recs.append(article)\n",
    "                \n",
    "    if len(recs) < m:\n",
    "        diff = m - len(recs)\n",
    "        add_list = get_top_articles(diff, clean_df)\n",
    "        recs.append(add_list)\n",
    "        \n",
    "    rec_names = get_article_names(recs)\n",
    "    \n",
    "    return recs, rec_names"
   ]
  },
  {
   "cell_type": "code",
   "execution_count": 40,
   "metadata": {},
   "outputs": [
    {
     "data": {
      "text/plain": [
       "([1305, 1314, 1422, 585, 1336, 939, 1423, 173, 1423, 379],\n",
       " ['healthcare python streaming application demo',\n",
       "  '10 must attend data science, ml and ai conferences in 2018',\n",
       "  'gosales transactions for naive bayes model',\n",
       "  'use sql with data in hadoop python',\n",
       "  'use r dataframes & ibm watson natural language understanding',\n",
       "  'deep learning from scratch i: computational graphs',\n",
       "  'learn basics about notebooks and apache spark',\n",
       "  'data structures related to machine learning algorithms',\n",
       "  'tidyverse practice: mapping large european cities'])"
      ]
     },
     "execution_count": 40,
     "metadata": {},
     "output_type": "execute_result"
    }
   ],
   "source": [
    "user_user_recs_part2(10)"
   ]
  },
  {
   "cell_type": "code",
   "execution_count": 41,
   "metadata": {},
   "outputs": [
    {
     "name": "stdout",
     "output_type": "stream",
     "text": [
      "The top 10 recommendations for user 20 are the following article ids:\n",
      "[1162, 1162, 1400, 232, 1368, 1368, 1437, 313, 1338, 667]\n",
      "The top 10 recommendations for user 20 are the following article names:\n",
      "['ml optimization using cognitive assistant', 'analyze energy consumption in buildings', 'putting a human face on machine learning', 'uci ml repository: chronic kidney disease data set', 'imitation learning in tensorflow (hopper from openai gym)', 'self-service data preparation with ibm data refinery', 'what caused the challenger disaster?', 'what is machine learning?']\n"
     ]
    }
   ],
   "source": [
    "# Quick spot check - don't change this code - just use it to test your functions\n",
    "rec_ids, rec_names = user_user_recs_part2(20, 10)\n",
    "print(\"The top 10 recommendations for user 20 are the following article ids:\")\n",
    "print(rec_ids)\n",
    "print(\"The top 10 recommendations for user 20 are the following article names:\")\n",
    "print(rec_names)"
   ]
  },
  {
   "cell_type": "code",
   "execution_count": 42,
   "metadata": {},
   "outputs": [
    {
     "data": {
      "text/plain": [
       "3933"
      ]
     },
     "execution_count": 42,
     "metadata": {},
     "output_type": "execute_result"
    }
   ],
   "source": [
    "get_top_sorted_users(1)['neighbor_id'].head(2).values[0]"
   ]
  },
  {
   "cell_type": "code",
   "execution_count": 43,
   "metadata": {},
   "outputs": [
    {
     "data": {
      "text/plain": [
       "242"
      ]
     },
     "execution_count": 43,
     "metadata": {},
     "output_type": "execute_result"
    }
   ],
   "source": [
    "get_top_sorted_users(131)['neighbor_id'].head(10).values[-1]"
   ]
  },
  {
   "cell_type": "markdown",
   "metadata": {},
   "source": [
    "`5.` Use your functions from above to correctly fill in the solutions to the dictionary below.  Then test your dictionary against the solution.  Provide the code you need to answer each following the comments below."
   ]
  },
  {
   "cell_type": "code",
   "execution_count": 44,
   "metadata": {},
   "outputs": [],
   "source": [
    "### Tests with a dictionary of results\n",
    "\n",
    "user1_most_sim = 3933 # Find the user that is most similar to user 1 \n",
    "user131_10th_sim = 242 # Find the 10th most similar user to user 131"
   ]
  },
  {
   "cell_type": "code",
   "execution_count": 45,
   "metadata": {},
   "outputs": [
    {
     "name": "stdout",
     "output_type": "stream",
     "text": [
      "This all looks good!  Nice job!\n"
     ]
    }
   ],
   "source": [
    "## Dictionary Test Here\n",
    "sol_5_dict = {\n",
    "    'The user that is most similar to user 1.': user1_most_sim, \n",
    "    'The user that is the 10th most similar to user 131': user131_10th_sim,\n",
    "}\n",
    "\n",
    "t.sol_5_test(sol_5_dict)"
   ]
  },
  {
   "cell_type": "markdown",
   "metadata": {},
   "source": [
    "`6.` If we were given a new user, which of the above functions would you be able to use to make recommendations?  Explain.  Can you think of a better way we might make recommendations?  Use the cell below to explain a better method for new users."
   ]
  },
  {
   "cell_type": "markdown",
   "metadata": {},
   "source": [
    "**Answer: We cannot use the user-user based collaborative filtering method, which finds similar users based on their interactions with articles, because we do not have any information about the new user's interactions with articles. Instead, we could make recommendations using the rank-based recommendation method. We can, for example, recommend the most popular articles (the most interacted articles in our case). When confronted with this type of issue, known as the cold start problem, we could also employ a content-based recommendations method, which provides recommendations based on information about the content of articles. Perhaps we can combine the output recommendations of these two methods, or create a rank-based recommendation that is separated by content. This approach has the potential to improve the relevance of the articles recommended to users.**"
   ]
  },
  {
   "cell_type": "markdown",
   "metadata": {},
   "source": [
    "`7.` Using your existing functions, provide the top 10 recommended articles you would provide for the a new user below.  You can test your function against our thoughts to make sure we are all on the same page with how we might make a recommendation."
   ]
  },
  {
   "cell_type": "code",
   "execution_count": 46,
   "metadata": {},
   "outputs": [
    {
     "data": {
      "text/plain": [
       "['1429',\n",
       " '1330',\n",
       " '1431',\n",
       " '1427',\n",
       " '1364',\n",
       " '1314',\n",
       " '1293',\n",
       " '1170',\n",
       " '1162',\n",
       " '1304']"
      ]
     },
     "execution_count": 46,
     "metadata": {},
     "output_type": "execute_result"
    }
   ],
   "source": [
    "new_user = '0.0'\n",
    "\n",
    "# What would your recommendations be for this new user '0.0'?  As a new user, they have no observed articles.\n",
    "# Provide a list of the top 10 article ids you would give to \n",
    "new_user_recs = [str(id_) for id_ in get_top_article_ids(10)] # Your recommendations here\n",
    "\n",
    "new_user_recs\n"
   ]
  },
  {
   "cell_type": "code",
   "execution_count": 47,
   "metadata": {},
   "outputs": [
    {
     "name": "stdout",
     "output_type": "stream",
     "text": [
      "That's right!  Nice job!\n"
     ]
    }
   ],
   "source": [
    "assert set(new_user_recs) == set(['1314','1429','1293','1427','1162','1364','1304','1170','1431','1330']), \"Oops!  It makes sense that in this case we would want to recommend the most popular articles, because we don't know anything about these users.\"\n",
    "\n",
    "print(\"That's right!  Nice job!\")"
   ]
  },
  {
   "cell_type": "markdown",
   "metadata": {},
   "source": [
    "### <a class=\"anchor\" id=\"Content-Recs\">Part IV: Content Based Recommendations (EXTRA - NOT REQUIRED)</a>\n",
    "\n",
    "Another method we might use to make recommendations is to perform a ranking of the highest ranked articles associated with some term.  You might consider content to be the **doc_body**, **doc_description**, or **doc_full_name**.  There isn't one way to create a content based recommendation, especially considering that each of these columns hold content related information.  \n",
    "\n",
    "`1.` Use the function body below to create a content based recommender.  Since there isn't one right answer for this recommendation tactic, no test functions are provided.  Feel free to change the function inputs if you decide you want to try a method that requires more input values.  The input values are currently set with one idea in mind that you may use to make content based recommendations.  One additional idea is that you might want to choose the most popular recommendations that meet your 'content criteria', but again, there is a lot of flexibility in how you might make these recommendations.\n",
    "\n",
    "### This part is NOT REQUIRED to pass this project.  However, you may choose to take this on as an extra way to show off your skills."
   ]
  },
  {
   "cell_type": "code",
   "execution_count": 51,
   "metadata": {},
   "outputs": [
    {
     "name": "stdout",
     "output_type": "stream",
     "text": [
      "[nltk_data] Downloading package wordnet to /root/nltk_data...\n",
      "[nltk_data]   Package wordnet is already up-to-date!\n",
      "[nltk_data] Downloading package stopwords to /root/nltk_data...\n",
      "[nltk_data]   Package stopwords is already up-to-date!\n",
      "[nltk_data] Downloading package punkt to /root/nltk_data...\n",
      "[nltk_data]   Package punkt is already up-to-date!\n"
     ]
    }
   ],
   "source": [
    "import nltk\n",
    "from nltk.tokenize import word_tokenize\n",
    "from nltk.stem import WordNetLemmatizer\n",
    "from nltk.corpus import stopwords\n",
    "\n",
    "nltk.download('wordnet')\n",
    "nltk.download('stopwords')\n",
    "nltk.download('punkt')\n",
    "\n",
    "def lemmatize(x):\n",
    "    \"\"\"\n",
    "    Description:\n",
    "        Lemmatize the titles words. \n",
    "    \n",
    "    Args:\n",
    "        x (string): string to tokezine.\n",
    "            \n",
    "    Returns:\n",
    "        filtered (list): list of lemmatized words\n",
    "    \"\"\"\n",
    "    \n",
    "    # get stop words\n",
    "    stop_words = set(stopwords.words('english'))\n",
    "    \n",
    "    # split each article title into individual words\n",
    "    tokens = word_tokenize(x) \n",
    "    lemmatizer = WordNetLemmatizer()\n",
    "    clean_tokens=[]\n",
    "    \n",
    "    for token in tokens:\n",
    "        #clean each token from whitespace and punctuation, and conver to root word\n",
    "        clean_token = lemmatizer.lemmatize(token).lower().strip()\n",
    "        clean_tokens.append(clean_token)\n",
    "        \n",
    "    filtered = [word for word in clean_tokens if word not in stop_words and word.isalpha()]\n",
    "    return filtered\n",
    "\n",
    "\n",
    "def make_content_recs(data_id, user_id=True, m=10, df=clean_df):\n",
    "    \"\"\"\n",
    "    Description:\n",
    "        This recommender goes through each article title and nltk library to finds the most common words\n",
    "        (related to content) throughout all the articles. The recommender will look at the sums of words \n",
    "        in the title of each article and based on the number of matches and popularity of an article.\n",
    "       \n",
    "    Args:\n",
    "        data_id (str) - id of either user or article\n",
    "        user_id (bool) - if true, make recs based on user\n",
    "        m (int) - number of recommendations to give based on term\n",
    "        \n",
    "    Returns:\n",
    "        recs (list) - list of article ids that are recommended\n",
    "        rec_names (list) - list of article names that are recommended   \n",
    "    \"\"\"\n",
    "    \n",
    "    if(user_id):\n",
    "        user_id = data_id\n",
    "        try:\n",
    "            # get past articles read by the user\n",
    "            article_ids, articles_names = get_user_articles(user_id)\n",
    "        except KeyError: # user does not exist\n",
    "            print('User Doesn\\'t Exist, Recommending Top Articles: \\n')\n",
    "            recs = get_top_article_ids(m)\n",
    "            return recs, get_article_names(recs)\n",
    "    \n",
    "    else:\n",
    "        article_ids = data_id\n",
    "        \n",
    "    \n",
    "    # Drop duplicates\n",
    "    title_data = df.drop_duplicates(subset='article_id') \n",
    "    \n",
    "    # Get articles titles\n",
    "    titles = title_data[title_data.article_id.isin(list(map(float, article_ids)))].title\n",
    "    \n",
    "    # Tokenize the words in each article title\n",
    "    title_words=[]\n",
    "    lemmatized = lemmatize(titles.str.cat(sep=' '))\n",
    "    title_words.extend(lemmatized)\n",
    "    \n",
    "    #Find the highest occuring words\n",
    "    common_words = pd.value_counts(title_words).sort_values(ascending=False)[:20].index\n",
    "    print('The twenty highest occuring words are: {} \\n'.format(common_words.values))\n",
    "\n",
    "    top_matches={}\n",
    "    # measure of similarity: count number of occurences of each common word in other article titles\n",
    "    for word in common_words:\n",
    "        word_count = pd.Series(title_data.title.str.count(word).fillna(0)) #gets occurences of each word in title\n",
    "        top_matches[word] = word_count\n",
    "    \n",
    "    # Most common words\n",
    "    top_matches = pd.DataFrame(top_matches) \n",
    "    top_matches['top_matches'] = top_matches.sum(axis=1)\n",
    "    top_matches['article_id'] = title_data.article_id.astype(int)\n",
    "    \n",
    "    # Get most interacted with articles\n",
    "    article_occurences = pd.DataFrame({'occurences':df.article_id.value_counts()})\n",
    "\n",
    "    # Sort matches by most popular articles\n",
    "    top_matches = top_matches.merge(article_occurences, left_on='article_id', right_index=True)\n",
    "    top_matches.sort_values(['top_matches', 'occurences'], ascending=False, inplace=True)    \n",
    "    \n",
    "    # Drop already read articles\n",
    "    recs_df = top_matches[~top_matches.article_id.isin(list(map(int, article_ids)))]\n",
    "    \n",
    "    # Get rec id and names\n",
    "    recs = recs_df.article_id[:m].values.astype(str)\n",
    "    rec_names = get_article_names(recs)\n",
    "    \n",
    "    return recs, rec_names"
   ]
  },
  {
   "cell_type": "markdown",
   "metadata": {},
   "source": [
    "`2.` Now that you have put together your content-based recommendation system, use the cell below to write a summary explaining how your content based recommender works.  Do you see any possible improvements that could be made to your function?  Is there anything novel about your content based recommender?\n",
    "\n",
    "### This part is NOT REQUIRED to pass this project.  However, you may choose to take this on as an extra way to show off your skills."
   ]
  },
  {
   "cell_type": "markdown",
   "metadata": {},
   "source": [
    "**The nltk library finds the most common words in each article's title. The recommender looks at the sums of words relevant words in the title of each article based on these most common words, and based on the number of matches in the titles as well as the general popularity of the article, it returns the best recommendations. As df_content contains information for all articles, we could extend this recommender to look not only at the title but also at the body of the articles. Also, if a user dislikes a specific article because it contains statistics, this does not imply that he or she will dislike all articles containing statistics. It will be interesting to experiment with combining content-based recommendations with other recommendation systems. If the user hasn't read any articles yet, we won't be able to make any content-based recommendations and will instead return some of the most popular articles.**"
   ]
  },
  {
   "cell_type": "markdown",
   "metadata": {},
   "source": [
    "`3.` Use your content-recommendation system to make recommendations for the below scenarios based on the comments.  Again no tests are provided here, because there isn't one right answer that could be used to find these content based recommendations.\n",
    "\n",
    "### This part is NOT REQUIRED to pass this project.  However, you may choose to take this on as an extra way to show off your skills."
   ]
  },
  {
   "cell_type": "code",
   "execution_count": 52,
   "metadata": {},
   "outputs": [
    {
     "name": "stdout",
     "output_type": "stream",
     "text": [
      "User Doesn't Exist, Recommending Top Articles: \n",
      "\n",
      "Articles ids: [1429, 1330, 1431, 1427, 1364, 1314, 1293, 1170, 1162, 1304] \n",
      " \n",
      " Articles names: ['healthcare python streaming application demo', 'use deep learning for image classification', 'apache spark lab, part 1: basic concepts', 'predicting churn with the spss random tree algorithm', 'analyze energy consumption in buildings', 'visualize car data with brunel', 'use xgboost, scikit-learn & ibm watson machine learning apis', 'gosales transactions for logistic regression model', 'insights from new york car accident reports', 'finding optimal locations of new store using decision optimization']\n"
     ]
    }
   ],
   "source": [
    "# make recommendations for a brand new user\n",
    "vec = make_content_recs(0, user_id=True)\n",
    "print('Articles ids: {} \\n'.format(vec[0]), '\\n Articles names: {}'.format(vec[1]))"
   ]
  },
  {
   "cell_type": "code",
   "execution_count": 53,
   "metadata": {},
   "outputs": [
    {
     "name": "stdout",
     "output_type": "stream",
     "text": [
      "The twenty highest occuring words are: ['use' 'python' 'learning' 'watson' 'streaming' 'ibm' 'naive' 'application'\n",
      " 'app' 'understanding' 'transaction' 'gosales' 'xgboost' 'bayes' 'service'\n",
      " 'audio' 'analytics' 'build' 'demo' 'natural'] \n",
      "\n",
      "Articles ids: ['730' '1366' '254' '266' '1274' '14' '470' '224' '1159' '319'] \n",
      " \n",
      " Articles names: ['got zip code data? prep it for analytics. – ibm watson data lab – medium', 'developing for the ibm streaming analytics service', 'data model with streaming analytics and python', 'developing ibm streams applications with the python api (version 1.6)', 'what’s new in the streaming analytics service on bluemix', 'using apply, sapply, lapply in r', 'process events from the watson iot platform in a streams python application', 'apple, ibm add machine learning to partnership with watson-core ml coupling', 'analyze facebook data using ibm watson and watson studio', 'using shell scripts to control data flows created in watson applications']\n"
     ]
    }
   ],
   "source": [
    "# make recommendations for a brand new user\n",
    "vec = make_content_recs(2, user_id=True)\n",
    "print('Articles ids: {} \\n'.format(vec[0]), '\\n Articles names: {}'.format(vec[1]))"
   ]
  },
  {
   "cell_type": "code",
   "execution_count": 54,
   "metadata": {},
   "outputs": [
    {
     "name": "stdout",
     "output_type": "stream",
     "text": [
      "The twenty highest occuring words are: ['listing' 'finding' 'airbnb' 'python' 'demo' 'healthcare' 'decision' 'new'\n",
      " 'using' 'optimization' 'application' 'analytics' 'diego' 'store' 'san'\n",
      " 'optimal' 'data' 'location' 'streaming'] \n",
      "\n",
      "Articles ids: ['1128' '1112' '1130' '1274' '1060' '1157' '184' '1154' '1145' '1124'] \n",
      " \n",
      " Articles names: ['airbnb data for analytics: washington d.c. listings', 'airbnb data for analytics: amsterdam listings', 'data model with streaming analytics and python', 'airbnb data for analytics: portland listings', 'airbnb data for analytics: vienna listings', 'improving the roi of big data and analytics through leveraging new sources of data', 'airbnb data for analytics: trentino listings', 'airbnb data for analytics: san diego reviews', 'airbnb data for analytics: new orleans listings', 'airbnb data for analytics: san francisco listings']\n"
     ]
    }
   ],
   "source": [
    "# make a recommendations for a user who only has interacted with article id '1427.0'\n",
    "vec = make_content_recs([1127, 1314, 1293], user_id=False)\n",
    "\n",
    "print('Articles ids: {} \\n'.format(vec[0]), '\\n Articles names: {}'.format(vec[1]))"
   ]
  },
  {
   "cell_type": "markdown",
   "metadata": {},
   "source": [
    "### <a class=\"anchor\" id=\"Matrix-Fact\">Part V: Matrix Factorization</a>\n",
    "\n",
    "In this part of the notebook, you will build use matrix factorization to make article recommendations to the users on the IBM Watson Studio platform.\n",
    "\n",
    "`1.` You should have already created a **user_item** matrix above in **question 1** of **Part III** above.  This first question here will just require that you run the cells to get things set up for the rest of **Part V** of the notebook. "
   ]
  },
  {
   "cell_type": "code",
   "execution_count": 55,
   "metadata": {},
   "outputs": [],
   "source": [
    "# Initialize again\n",
    "del df\n",
    "df = pd.read_csv('data/user-item-interactions.csv')\n",
    "del df['Unnamed: 0']\n",
    "\n",
    "clean_df = clean_data(df)"
   ]
  },
  {
   "cell_type": "code",
   "execution_count": 56,
   "metadata": {},
   "outputs": [],
   "source": [
    "# Load the matrix here\n",
    "# user_item_matrix = pd.read_pickle('user_item_matrix.p')\n",
    "user_item_matrix = user_item"
   ]
  },
  {
   "cell_type": "code",
   "execution_count": 57,
   "metadata": {},
   "outputs": [
    {
     "data": {
      "text/html": [
       "<div>\n",
       "<style scoped>\n",
       "    .dataframe tbody tr th:only-of-type {\n",
       "        vertical-align: middle;\n",
       "    }\n",
       "\n",
       "    .dataframe tbody tr th {\n",
       "        vertical-align: top;\n",
       "    }\n",
       "\n",
       "    .dataframe thead th {\n",
       "        text-align: right;\n",
       "    }\n",
       "</style>\n",
       "<table border=\"1\" class=\"dataframe\">\n",
       "  <thead>\n",
       "    <tr style=\"text-align: right;\">\n",
       "      <th>article_id</th>\n",
       "      <th>0</th>\n",
       "      <th>2</th>\n",
       "      <th>4</th>\n",
       "      <th>8</th>\n",
       "      <th>9</th>\n",
       "      <th>12</th>\n",
       "      <th>14</th>\n",
       "      <th>15</th>\n",
       "      <th>16</th>\n",
       "      <th>18</th>\n",
       "      <th>...</th>\n",
       "      <th>1434</th>\n",
       "      <th>1435</th>\n",
       "      <th>1436</th>\n",
       "      <th>1437</th>\n",
       "      <th>1439</th>\n",
       "      <th>1440</th>\n",
       "      <th>1441</th>\n",
       "      <th>1442</th>\n",
       "      <th>1443</th>\n",
       "      <th>1444</th>\n",
       "    </tr>\n",
       "    <tr>\n",
       "      <th>user_id</th>\n",
       "      <th></th>\n",
       "      <th></th>\n",
       "      <th></th>\n",
       "      <th></th>\n",
       "      <th></th>\n",
       "      <th></th>\n",
       "      <th></th>\n",
       "      <th></th>\n",
       "      <th></th>\n",
       "      <th></th>\n",
       "      <th></th>\n",
       "      <th></th>\n",
       "      <th></th>\n",
       "      <th></th>\n",
       "      <th></th>\n",
       "      <th></th>\n",
       "      <th></th>\n",
       "      <th></th>\n",
       "      <th></th>\n",
       "      <th></th>\n",
       "      <th></th>\n",
       "    </tr>\n",
       "  </thead>\n",
       "  <tbody>\n",
       "    <tr>\n",
       "      <th>1</th>\n",
       "      <td>0</td>\n",
       "      <td>0</td>\n",
       "      <td>0</td>\n",
       "      <td>0</td>\n",
       "      <td>0</td>\n",
       "      <td>0</td>\n",
       "      <td>0</td>\n",
       "      <td>0</td>\n",
       "      <td>0</td>\n",
       "      <td>0</td>\n",
       "      <td>...</td>\n",
       "      <td>0</td>\n",
       "      <td>0</td>\n",
       "      <td>1</td>\n",
       "      <td>0</td>\n",
       "      <td>1</td>\n",
       "      <td>0</td>\n",
       "      <td>0</td>\n",
       "      <td>0</td>\n",
       "      <td>0</td>\n",
       "      <td>0</td>\n",
       "    </tr>\n",
       "    <tr>\n",
       "      <th>2</th>\n",
       "      <td>0</td>\n",
       "      <td>0</td>\n",
       "      <td>0</td>\n",
       "      <td>0</td>\n",
       "      <td>0</td>\n",
       "      <td>0</td>\n",
       "      <td>0</td>\n",
       "      <td>0</td>\n",
       "      <td>0</td>\n",
       "      <td>0</td>\n",
       "      <td>...</td>\n",
       "      <td>0</td>\n",
       "      <td>0</td>\n",
       "      <td>0</td>\n",
       "      <td>0</td>\n",
       "      <td>0</td>\n",
       "      <td>0</td>\n",
       "      <td>0</td>\n",
       "      <td>0</td>\n",
       "      <td>0</td>\n",
       "      <td>0</td>\n",
       "    </tr>\n",
       "    <tr>\n",
       "      <th>3</th>\n",
       "      <td>0</td>\n",
       "      <td>0</td>\n",
       "      <td>0</td>\n",
       "      <td>0</td>\n",
       "      <td>0</td>\n",
       "      <td>1</td>\n",
       "      <td>0</td>\n",
       "      <td>0</td>\n",
       "      <td>0</td>\n",
       "      <td>0</td>\n",
       "      <td>...</td>\n",
       "      <td>0</td>\n",
       "      <td>0</td>\n",
       "      <td>1</td>\n",
       "      <td>0</td>\n",
       "      <td>0</td>\n",
       "      <td>0</td>\n",
       "      <td>0</td>\n",
       "      <td>0</td>\n",
       "      <td>0</td>\n",
       "      <td>0</td>\n",
       "    </tr>\n",
       "    <tr>\n",
       "      <th>4</th>\n",
       "      <td>0</td>\n",
       "      <td>0</td>\n",
       "      <td>0</td>\n",
       "      <td>0</td>\n",
       "      <td>0</td>\n",
       "      <td>0</td>\n",
       "      <td>0</td>\n",
       "      <td>0</td>\n",
       "      <td>0</td>\n",
       "      <td>0</td>\n",
       "      <td>...</td>\n",
       "      <td>0</td>\n",
       "      <td>0</td>\n",
       "      <td>0</td>\n",
       "      <td>0</td>\n",
       "      <td>0</td>\n",
       "      <td>0</td>\n",
       "      <td>0</td>\n",
       "      <td>0</td>\n",
       "      <td>0</td>\n",
       "      <td>0</td>\n",
       "    </tr>\n",
       "    <tr>\n",
       "      <th>5</th>\n",
       "      <td>0</td>\n",
       "      <td>0</td>\n",
       "      <td>0</td>\n",
       "      <td>0</td>\n",
       "      <td>0</td>\n",
       "      <td>0</td>\n",
       "      <td>0</td>\n",
       "      <td>0</td>\n",
       "      <td>0</td>\n",
       "      <td>0</td>\n",
       "      <td>...</td>\n",
       "      <td>0</td>\n",
       "      <td>0</td>\n",
       "      <td>0</td>\n",
       "      <td>0</td>\n",
       "      <td>0</td>\n",
       "      <td>0</td>\n",
       "      <td>0</td>\n",
       "      <td>0</td>\n",
       "      <td>0</td>\n",
       "      <td>0</td>\n",
       "    </tr>\n",
       "  </tbody>\n",
       "</table>\n",
       "<p>5 rows × 714 columns</p>\n",
       "</div>"
      ],
      "text/plain": [
       "article_id  0     2     4     8     9     12    14    15    16    18    ...   \\\n",
       "user_id                                                                 ...    \n",
       "1              0     0     0     0     0     0     0     0     0     0  ...    \n",
       "2              0     0     0     0     0     0     0     0     0     0  ...    \n",
       "3              0     0     0     0     0     1     0     0     0     0  ...    \n",
       "4              0     0     0     0     0     0     0     0     0     0  ...    \n",
       "5              0     0     0     0     0     0     0     0     0     0  ...    \n",
       "\n",
       "article_id  1434  1435  1436  1437  1439  1440  1441  1442  1443  1444  \n",
       "user_id                                                                 \n",
       "1              0     0     1     0     1     0     0     0     0     0  \n",
       "2              0     0     0     0     0     0     0     0     0     0  \n",
       "3              0     0     1     0     0     0     0     0     0     0  \n",
       "4              0     0     0     0     0     0     0     0     0     0  \n",
       "5              0     0     0     0     0     0     0     0     0     0  \n",
       "\n",
       "[5 rows x 714 columns]"
      ]
     },
     "execution_count": 57,
     "metadata": {},
     "output_type": "execute_result"
    }
   ],
   "source": [
    "# quick look at the matrix\n",
    "user_item_matrix.head()"
   ]
  },
  {
   "cell_type": "markdown",
   "metadata": {},
   "source": [
    "`2.` In this situation, you can use Singular Value Decomposition from [numpy](https://docs.scipy.org/doc/numpy-1.14.0/reference/generated/numpy.linalg.svd.html) on the user-item matrix.  Use the cell to perform SVD, and explain why this is different than in the lesson."
   ]
  },
  {
   "cell_type": "code",
   "execution_count": 58,
   "metadata": {},
   "outputs": [],
   "source": [
    "# Perform SVD on the User-Item Matrix\n",
    "\n",
    "u, s, vt = np.linalg.svd(user_item_matrix) # use the built in to get the three matrices"
   ]
  },
  {
   "cell_type": "markdown",
   "metadata": {},
   "source": [
    "**The user item matrix contains no NaN values. If there were missing values, we would need to use a different algorithm than SVD. (FunkSVD).**"
   ]
  },
  {
   "cell_type": "markdown",
   "metadata": {},
   "source": [
    "`3.` Now for the tricky part, how do we choose the number of latent features to use?  Running the below cell, you can see that as the number of latent features increases, we obtain a lower error rate on making predictions for the 1 and 0 values in the user-item matrix.  Run the cell below to get an idea of how the accuracy improves as we increase the number of latent features."
   ]
  },
  {
   "cell_type": "code",
   "execution_count": 59,
   "metadata": {},
   "outputs": [
    {
     "data": {
      "image/png": "[encoded data removed]",
      "text/plain": [
       "<matplotlib.figure.Figure at 0x7f50ffa169e8>"
      ]
     },
     "metadata": {
      "needs_background": "light"
     },
     "output_type": "display_data"
    }
   ],
   "source": [
    "num_latent_feats = np.arange(10,700+10,20)\n",
    "sum_errs = []\n",
    "\n",
    "for k in num_latent_feats:\n",
    "    # restructure with k latent features\n",
    "    s_new, u_new, vt_new = np.diag(s[:k]), u[:, :k], vt[:k, :]\n",
    "    \n",
    "    # take dot product\n",
    "    user_item_est = np.around(np.dot(np.dot(u_new, s_new), vt_new))\n",
    "    \n",
    "    # compute error for each prediction to actual value\n",
    "    diffs = np.subtract(user_item_matrix, user_item_est)\n",
    "    \n",
    "    # total errors and keep track of them\n",
    "    err = np.sum(np.sum(np.abs(diffs)))\n",
    "    sum_errs.append(err)\n",
    "    \n",
    "    \n",
    "plt.plot(num_latent_feats, 1 - np.array(sum_errs)/df.shape[0]);\n",
    "plt.xlabel('Number of Latent Features');\n",
    "plt.ylabel('Accuracy');\n",
    "plt.title('Accuracy vs. Number of Latent Features');"
   ]
  },
  {
   "cell_type": "markdown",
   "metadata": {},
   "source": [
    "`4.` From the above, we can't really be sure how many features to use, because simply having a better way to predict the 1's and 0's of the matrix doesn't exactly give us an indication of if we are able to make good recommendations.  Instead, we might split our dataset into a training and test set of data, as shown in the cell below.  \n",
    "\n",
    "Use the code from question 3 to understand the impact on accuracy of the training and test sets of data with different numbers of latent features. Using the split below: \n",
    "\n",
    "* How many users can we make predictions for in the test set?  \n",
    "* How many users are we not able to make predictions for because of the cold start problem?\n",
    "* How many articles can we make predictions for in the test set?  \n",
    "* How many articles are we not able to make predictions for because of the cold start problem?"
   ]
  },
  {
   "cell_type": "code",
   "execution_count": 60,
   "metadata": {},
   "outputs": [],
   "source": [
    "df_train = clean_df.head(40000)\n",
    "df_test = clean_df.tail(5993)\n",
    "\n",
    "def create_test_and_train_user_item(df_train, df_test):\n",
    "    \"\"\"\n",
    "    Description:\n",
    "        Return the train and test datasets\n",
    "    \n",
    "    Args:\n",
    "        df_train (dataframe): train dataframe\n",
    "        df_test (dataframe): test dataframe\n",
    "\n",
    "    Returns:\n",
    "        user_item_train (dataframe): a user-item matrix of the training dataframe \n",
    "        user_item_test  (dataframe): a user-item matrix of the testing dataframe\n",
    "        test_idx (pandas series): all of the test user ids\n",
    "        test_arts (pandas series): all of the test article ids\n",
    "    \"\"\"\n",
    "\n",
    "    user_item_train = create_user_item_matrix(df_train)\n",
    "    user_item_test = create_user_item_matrix(df_test)\n",
    "    test_idx = df_test.user_id.unique()\n",
    "    test_arts = df_test.article_id.unique()\n",
    "    \n",
    "    return user_item_train, user_item_test, test_idx, test_arts\n",
    "\n",
    "# Use the function\n",
    "user_item_train, user_item_test, test_idx, test_arts = create_test_and_train_user_item(df_train, df_test)"
   ]
  },
  {
   "cell_type": "code",
   "execution_count": 61,
   "metadata": {},
   "outputs": [
    {
     "name": "stdout",
     "output_type": "stream",
     "text": [
      "20\n",
      "662\n",
      "574\n",
      "0\n"
     ]
    }
   ],
   "source": [
    "# How many users can we make predictions for in the test set?\n",
    "print(np.intersect1d(test_idx,user_item_train.index.values).shape[0])\n",
    "\n",
    "# How many users in the test set are we not able to make predictions for because of the cold start problem?\n",
    "print(test_idx.shape[0] - np.intersect1d(test_idx,user_item_train.index.values).shape[0])\n",
    "\n",
    "# How many articles can we make predictions for in the test set?\n",
    "print(np.intersect1d(test_arts, user_item_train.columns.values).shape[0])\n",
    "\n",
    "# How many articles in the test set are we not able to make predictions for because of the cold start problem?\n",
    "print(test_arts.shape[0] - np.intersect1d(test_arts, user_item_train.columns.values).shape[0])"
   ]
  },
  {
   "cell_type": "code",
   "execution_count": 62,
   "metadata": {},
   "outputs": [
    {
     "name": "stdout",
     "output_type": "stream",
     "text": [
      "Awesome job!  That's right!  All of the test movies are in the training data, but there are only 20 test users that were also in the training set.  All of the other users that are in the test set we have no data on.  Therefore, we cannot make predictions for these users using SVD.\n"
     ]
    }
   ],
   "source": [
    "# Replace the values in the dictionary below\n",
    "a = 662 \n",
    "b = 574 \n",
    "c = 20 \n",
    "d = 0 \n",
    "\n",
    "\n",
    "sol_4_dict = {\n",
    "    'How many users can we make predictions for in the test set?': c, \n",
    "    'How many users in the test set are we not able to make predictions for because of the cold start problem?': a, \n",
    "    'How many movies can we make predictions for in the test set?': b,\n",
    "    'How many movies in the test set are we not able to make predictions for because of the cold start problem?': d\n",
    "}\n",
    "\n",
    "\n",
    "t.sol_4_test(sol_4_dict)"
   ]
  },
  {
   "cell_type": "markdown",
   "metadata": {},
   "source": [
    "`5.` Now use the **user_item_train** dataset from above to find U, S, and V transpose using SVD. Then find the subset of rows in the **user_item_test** dataset that you can predict using this matrix decomposition with different numbers of latent features to see how many features makes sense to keep based on the accuracy on the test data. This will require combining what was done in questions `2` - `4`.\n",
    "\n",
    "Use the cells below to explore how well SVD works towards making predictions for recommendations on the test data.  "
   ]
  },
  {
   "cell_type": "code",
   "execution_count": 63,
   "metadata": {},
   "outputs": [],
   "source": [
    "# SVD should be fitted to the user item train matrix.\n",
    "u_train, s_train, vt_train = np.linalg.svd(user_item_train) # fit svd"
   ]
  },
  {
   "cell_type": "code",
   "execution_count": 64,
   "metadata": {},
   "outputs": [],
   "source": [
    "# Get the values from the user item train train that correspond to the possible users.\n",
    "test_rows_idx = user_item_train.index.isin(test_idx)\n",
    "test_col_idx = user_item_train.columns.isin(test_arts)\n",
    "u_test = u_train[test_rows_idx, :]\n",
    "vt_test = vt_train[:, test_col_idx]\n",
    "\n",
    "# s_test = s_train\n",
    "\n",
    "# find the users who appear in both the training and test datasets\n",
    "user_present_both = np.intersect1d(user_item_test.index, user_item_train.index)\n",
    "user_item_test_predictable = user_item_test[user_item_test.index.isin(user_present_both)]"
   ]
  },
  {
   "cell_type": "code",
   "execution_count": 65,
   "metadata": {},
   "outputs": [],
   "source": [
    "# Initialize testing parameters\n",
    "num_latent_feats = np.arange(1,700+10,20)\n",
    "\n",
    "# Errors in the train and test datasets should be recorded.\n",
    "sum_errs_train = []\n",
    "sum_errs_test = []\n",
    "\n",
    "for k in num_latent_feats:\n",
    "    # Both training and test sets should be restructured with k latent features.\n",
    "    s_train_lat, u_train_lat, vt_train_lat = np.diag(s_train[:k]), u_train[:, :k], vt_train[:k, :]\n",
    "    u_test_lat, vt_test_lat = u_test[:, :k], vt_test[:k, :]\n",
    "    \n",
    "    # Use the dot product for both training and testing.\n",
    "    user_item_train_est = np.around(np.dot(np.dot(u_train_lat, s_train_lat), vt_train_lat))\n",
    "    user_item_test_est = np.around(np.dot(np.dot(u_test_lat, s_train_lat), vt_test_lat))\n",
    "    \n",
    "    # Calculate the error from each prediction to the actual value\n",
    "    diffs_train = np.subtract(user_item_train, user_item_train_est)\n",
    "    diffs_test = np.subtract(user_item_test_predictable, user_item_test_est)\n",
    "    \n",
    "    # Sum errors for both training and test sets\n",
    "    err_train = np.sum(np.sum(np.abs(diffs_train)))\n",
    "    err_test = np.sum(np.sum(np.abs(diffs_test)))\n",
    "    sum_errs_train.append(err_train)\n",
    "    sum_errs_test.append(err_test)"
   ]
  },
  {
   "cell_type": "code",
   "execution_count": 66,
   "metadata": {},
   "outputs": [
    {
     "data": {
      "image/png": "[encoded data removed]",
      "text/plain": [
       "<matplotlib.figure.Figure at 0x7f50ff9e3ac8>"
      ]
     },
     "metadata": {
      "needs_background": "light"
     },
     "output_type": "display_data"
    }
   ],
   "source": [
    "# Plot the graph\n",
    "plt.figure(figsize=(10, 7))\n",
    "plt.plot(num_latent_feats, 1 - np.array(sum_errs_train)/(user_item_train.shape[0] \n",
    "                                                         * user_item_test_predictable.shape[1]), label='Train')\n",
    "plt.plot(num_latent_feats, 1 - np.array(sum_errs_test)/(user_item_test_predictable.shape[0] \n",
    "                                                        * user_item_test_predictable.shape[1]), label='Test')\n",
    "plt.xlabel('Latent Features')\n",
    "plt.ylabel('Accuracy of Prediction')\n",
    "plt.legend()\n",
    "plt.title('Accuracy of Training/Tests vs. Number of Latent Features')\n",
    "plt.show()"
   ]
  },
  {
   "cell_type": "markdown",
   "metadata": {
    "collapsed": true
   },
   "source": [
    "`6.` Use the cell below to comment on the results you found in the previous question. Given the circumstances of your results, discuss what you might do to determine if the recommendations you make with any of the above recommendation systems are an improvement to how users currently find articles? "
   ]
  },
  {
   "cell_type": "markdown",
   "metadata": {},
   "source": [
    "**Answer:**\n",
    "\n",
    "* Because this is mostly a sparse matrix, we may not need to use many latent features to reproduce the original matrix correctly. Although the accuracy of prediction for train data increases with the number of latent features, the accuracy of prediction for test data decreases. This could be due to the imbalanced dataset. Actually, only 20 of the over 4000 users in the train set are also in the test set, and latent features that capture the relationship between users and activities in the train data set may not be useful for predicting activities in the test set.\n",
    "\n",
    "* We could make recommendations for new users using the rank-based recommendation method, which is a very nice way to make recommendations without knowing anything about the user (definitely an improvement). Perhaps we can solicit information on content preferences and combine content-based recommendation with other methods of recommendation. We can use information from df content to define categories for each article, combine it with rank-based recommendation, and use it as a filter for user-user based collaborative filtering.\n",
    "\n",
    "* An AB test can be used to determine whether any of the recommendation systems are superior to the original process of users discovering articles of interest. It can be implemented by dividing users into two groups, with one group being recommended using rank-based recommendation and the other group being recommended using matrix-factorization.\n",
    "\n",
    "* An online approach to determining the usefulness of different recommendation systems is an alternative to the previously used offline method (Matrix factorization testing). For instance, we could use an A/B test to compare the effectiveness of one recommendation system to another. This will assist in determining how well the recommendation engine systems work and whether any of the recommendation systems outperform the original process of users discovering articles of interest. We would divide users into groups of an equal number of users using cookies. Group A would employ one recommendation system, whereas Group B would employ another."
   ]
  },
  {
   "cell_type": "markdown",
   "metadata": {},
   "source": [
    "### <a class=\"anchor\" id=\"Content-Recs\">Part VI: FunkSVD (EXTRA - PERSONAL)</a>"
   ]
  },
  {
   "cell_type": "code",
   "execution_count": 67,
   "metadata": {},
   "outputs": [],
   "source": [
    "del df\n",
    "df = pd.read_csv('data/user-item-interactions.csv')\n",
    "del df['Unnamed: 0']\n",
    "\n",
    "clean_df = clean_data(df)"
   ]
  },
  {
   "cell_type": "code",
   "execution_count": 68,
   "metadata": {},
   "outputs": [],
   "source": [
    "# Load the matrix here\n",
    "\n",
    "user_item = df.groupby([\"user_id\", \"article_id\"])[\"title\"].count().unstack()\n",
    "\n",
    "user_item_matrix = user_item"
   ]
  },
  {
   "cell_type": "code",
   "execution_count": 69,
   "metadata": {},
   "outputs": [
    {
     "data": {
      "text/html": [
       "<div>\n",
       "<style scoped>\n",
       "    .dataframe tbody tr th:only-of-type {\n",
       "        vertical-align: middle;\n",
       "    }\n",
       "\n",
       "    .dataframe tbody tr th {\n",
       "        vertical-align: top;\n",
       "    }\n",
       "\n",
       "    .dataframe thead th {\n",
       "        text-align: right;\n",
       "    }\n",
       "</style>\n",
       "<table border=\"1\" class=\"dataframe\">\n",
       "  <thead>\n",
       "    <tr style=\"text-align: right;\">\n",
       "      <th>article_id</th>\n",
       "      <th>0</th>\n",
       "      <th>2</th>\n",
       "      <th>4</th>\n",
       "      <th>8</th>\n",
       "      <th>9</th>\n",
       "      <th>12</th>\n",
       "      <th>14</th>\n",
       "      <th>15</th>\n",
       "      <th>16</th>\n",
       "      <th>18</th>\n",
       "      <th>...</th>\n",
       "      <th>1434</th>\n",
       "      <th>1435</th>\n",
       "      <th>1436</th>\n",
       "      <th>1437</th>\n",
       "      <th>1439</th>\n",
       "      <th>1440</th>\n",
       "      <th>1441</th>\n",
       "      <th>1442</th>\n",
       "      <th>1443</th>\n",
       "      <th>1444</th>\n",
       "    </tr>\n",
       "    <tr>\n",
       "      <th>user_id</th>\n",
       "      <th></th>\n",
       "      <th></th>\n",
       "      <th></th>\n",
       "      <th></th>\n",
       "      <th></th>\n",
       "      <th></th>\n",
       "      <th></th>\n",
       "      <th></th>\n",
       "      <th></th>\n",
       "      <th></th>\n",
       "      <th></th>\n",
       "      <th></th>\n",
       "      <th></th>\n",
       "      <th></th>\n",
       "      <th></th>\n",
       "      <th></th>\n",
       "      <th></th>\n",
       "      <th></th>\n",
       "      <th></th>\n",
       "      <th></th>\n",
       "      <th></th>\n",
       "    </tr>\n",
       "  </thead>\n",
       "  <tbody>\n",
       "    <tr>\n",
       "      <th>1</th>\n",
       "      <td>NaN</td>\n",
       "      <td>NaN</td>\n",
       "      <td>NaN</td>\n",
       "      <td>NaN</td>\n",
       "      <td>NaN</td>\n",
       "      <td>NaN</td>\n",
       "      <td>NaN</td>\n",
       "      <td>NaN</td>\n",
       "      <td>NaN</td>\n",
       "      <td>NaN</td>\n",
       "      <td>...</td>\n",
       "      <td>NaN</td>\n",
       "      <td>NaN</td>\n",
       "      <td>1.0</td>\n",
       "      <td>NaN</td>\n",
       "      <td>1.0</td>\n",
       "      <td>NaN</td>\n",
       "      <td>NaN</td>\n",
       "      <td>NaN</td>\n",
       "      <td>NaN</td>\n",
       "      <td>NaN</td>\n",
       "    </tr>\n",
       "    <tr>\n",
       "      <th>2</th>\n",
       "      <td>NaN</td>\n",
       "      <td>NaN</td>\n",
       "      <td>NaN</td>\n",
       "      <td>NaN</td>\n",
       "      <td>NaN</td>\n",
       "      <td>NaN</td>\n",
       "      <td>NaN</td>\n",
       "      <td>NaN</td>\n",
       "      <td>NaN</td>\n",
       "      <td>NaN</td>\n",
       "      <td>...</td>\n",
       "      <td>NaN</td>\n",
       "      <td>NaN</td>\n",
       "      <td>NaN</td>\n",
       "      <td>NaN</td>\n",
       "      <td>NaN</td>\n",
       "      <td>NaN</td>\n",
       "      <td>NaN</td>\n",
       "      <td>NaN</td>\n",
       "      <td>NaN</td>\n",
       "      <td>NaN</td>\n",
       "    </tr>\n",
       "    <tr>\n",
       "      <th>3</th>\n",
       "      <td>NaN</td>\n",
       "      <td>NaN</td>\n",
       "      <td>NaN</td>\n",
       "      <td>NaN</td>\n",
       "      <td>NaN</td>\n",
       "      <td>1.0</td>\n",
       "      <td>NaN</td>\n",
       "      <td>NaN</td>\n",
       "      <td>NaN</td>\n",
       "      <td>NaN</td>\n",
       "      <td>...</td>\n",
       "      <td>NaN</td>\n",
       "      <td>NaN</td>\n",
       "      <td>1.0</td>\n",
       "      <td>NaN</td>\n",
       "      <td>NaN</td>\n",
       "      <td>NaN</td>\n",
       "      <td>NaN</td>\n",
       "      <td>NaN</td>\n",
       "      <td>NaN</td>\n",
       "      <td>NaN</td>\n",
       "    </tr>\n",
       "    <tr>\n",
       "      <th>4</th>\n",
       "      <td>NaN</td>\n",
       "      <td>NaN</td>\n",
       "      <td>NaN</td>\n",
       "      <td>NaN</td>\n",
       "      <td>NaN</td>\n",
       "      <td>NaN</td>\n",
       "      <td>NaN</td>\n",
       "      <td>NaN</td>\n",
       "      <td>NaN</td>\n",
       "      <td>NaN</td>\n",
       "      <td>...</td>\n",
       "      <td>NaN</td>\n",
       "      <td>NaN</td>\n",
       "      <td>NaN</td>\n",
       "      <td>NaN</td>\n",
       "      <td>NaN</td>\n",
       "      <td>NaN</td>\n",
       "      <td>NaN</td>\n",
       "      <td>NaN</td>\n",
       "      <td>NaN</td>\n",
       "      <td>NaN</td>\n",
       "    </tr>\n",
       "    <tr>\n",
       "      <th>5</th>\n",
       "      <td>NaN</td>\n",
       "      <td>NaN</td>\n",
       "      <td>NaN</td>\n",
       "      <td>NaN</td>\n",
       "      <td>NaN</td>\n",
       "      <td>NaN</td>\n",
       "      <td>NaN</td>\n",
       "      <td>NaN</td>\n",
       "      <td>NaN</td>\n",
       "      <td>NaN</td>\n",
       "      <td>...</td>\n",
       "      <td>NaN</td>\n",
       "      <td>NaN</td>\n",
       "      <td>NaN</td>\n",
       "      <td>NaN</td>\n",
       "      <td>NaN</td>\n",
       "      <td>NaN</td>\n",
       "      <td>NaN</td>\n",
       "      <td>NaN</td>\n",
       "      <td>NaN</td>\n",
       "      <td>NaN</td>\n",
       "    </tr>\n",
       "  </tbody>\n",
       "</table>\n",
       "<p>5 rows × 714 columns</p>\n",
       "</div>"
      ],
      "text/plain": [
       "article_id  0     2     4     8     9     12    14    15    16    18    ...   \\\n",
       "user_id                                                                 ...    \n",
       "1            NaN   NaN   NaN   NaN   NaN   NaN   NaN   NaN   NaN   NaN  ...    \n",
       "2            NaN   NaN   NaN   NaN   NaN   NaN   NaN   NaN   NaN   NaN  ...    \n",
       "3            NaN   NaN   NaN   NaN   NaN   1.0   NaN   NaN   NaN   NaN  ...    \n",
       "4            NaN   NaN   NaN   NaN   NaN   NaN   NaN   NaN   NaN   NaN  ...    \n",
       "5            NaN   NaN   NaN   NaN   NaN   NaN   NaN   NaN   NaN   NaN  ...    \n",
       "\n",
       "article_id  1434  1435  1436  1437  1439  1440  1441  1442  1443  1444  \n",
       "user_id                                                                 \n",
       "1            NaN   NaN   1.0   NaN   1.0   NaN   NaN   NaN   NaN   NaN  \n",
       "2            NaN   NaN   NaN   NaN   NaN   NaN   NaN   NaN   NaN   NaN  \n",
       "3            NaN   NaN   1.0   NaN   NaN   NaN   NaN   NaN   NaN   NaN  \n",
       "4            NaN   NaN   NaN   NaN   NaN   NaN   NaN   NaN   NaN   NaN  \n",
       "5            NaN   NaN   NaN   NaN   NaN   NaN   NaN   NaN   NaN   NaN  \n",
       "\n",
       "[5 rows x 714 columns]"
      ]
     },
     "execution_count": 69,
     "metadata": {},
     "output_type": "execute_result"
    }
   ],
   "source": [
    "# quick look at the matrix\n",
    "user_item_matrix.head()"
   ]
  },
  {
   "cell_type": "code",
   "execution_count": 70,
   "metadata": {},
   "outputs": [],
   "source": [
    "def FunkSVD(ratings_mat, latent_features=15, learning_rate=0.0001, iters=100):\n",
    "    \"\"\"\n",
    "    Description:\n",
    "        This function performs matrix factorization using a basic form of FunkSVD with no regularization\n",
    "    \n",
    "    Args:\n",
    "        ratings_mat (numpy array): a matrix with users as rows and articles as columns\n",
    "        latent_features (int): the number of latent features used\n",
    "        learning_rate (float): the learning rate \n",
    "        iters (int): the number of iterations\n",
    "    \n",
    "    Returns:\n",
    "        user_mat (numpy array): a user by latent feature matrix\n",
    "        article_mat (numpy array): a latent feature by article matrix\n",
    "    \"\"\"\n",
    "    \n",
    "    # Set up useful values to be used through the rest of the function\n",
    "    n_users = ratings_mat.shape[0]\n",
    "    n_articles = ratings_mat.shape[1]\n",
    "    num_ratings = np.count_nonzero(~np.isnan(ratings_mat))\n",
    "    \n",
    "    # initialize the user and article matrices with random values\n",
    "    user_mat = np.random.rand(n_users, latent_features)\n",
    "    article_mat = np.random.rand(latent_features, n_articles)\n",
    "    \n",
    "    # initialize sse at 0 for first iteration\n",
    "    sse_accum = 0\n",
    "    \n",
    "    # keep track of iteration and MSE\n",
    "    print(\"Optimizaiton Statistics\")\n",
    "    print(\"Iterations | Mean Squared Error \")\n",
    "    \n",
    "    # for each iteration\n",
    "    for iteration in range(iters):\n",
    "\n",
    "        # update our sse\n",
    "        old_sse = sse_accum\n",
    "        sse_accum = 0\n",
    "        \n",
    "        # For each user-article pair\n",
    "        for i in range(n_users):\n",
    "            for j in range(n_articles):\n",
    "                \n",
    "                # if the rating exists\n",
    "                if ratings_mat[i, j] > 0:\n",
    "                    \n",
    "                    # compute the error as the actual minus the dot product of the user and article latent features\n",
    "                    diff = ratings_mat[i, j] - np.dot(user_mat[i, :], article_mat[:, j])\n",
    "                    \n",
    "                    # Keep track of the sum of squared errors for the matrix\n",
    "                    sse_accum += diff**2\n",
    "                    \n",
    "                    # update the values in each matrix in the direction of the gradient\n",
    "                    for k in range(latent_features):\n",
    "                        user_mat[i, k] += learning_rate * (2*diff*article_mat[k, j])\n",
    "                        article_mat[k, j] += learning_rate * (2*diff*user_mat[i, k])\n",
    "\n",
    "        # print results\n",
    "        print(\"%d \\t\\t %f\" % (iteration+1, sse_accum / num_ratings))\n",
    "        \n",
    "    return user_mat, article_mat "
   ]
  },
  {
   "cell_type": "code",
   "execution_count": 71,
   "metadata": {},
   "outputs": [
    {
     "name": "stdout",
     "output_type": "stream",
     "text": [
      "Optimizaiton Statistics\n",
      "Iterations | Mean Squared Error \n",
      "1 \t\t 2.737049\n",
      "2 \t\t 1.539997\n",
      "3 \t\t 1.318174\n",
      "4 \t\t 1.127475\n",
      "5 \t\t 0.944805\n",
      "6 \t\t 0.804539\n",
      "7 \t\t 0.703786\n",
      "8 \t\t 0.622103\n",
      "9 \t\t 0.554166\n",
      "10 \t\t 0.497666\n",
      "11 \t\t 0.450313\n",
      "12 \t\t 0.410212\n",
      "13 \t\t 0.375928\n",
      "14 \t\t 0.346385\n",
      "15 \t\t 0.320750\n",
      "16 \t\t 0.298352\n",
      "17 \t\t 0.278643\n",
      "18 \t\t 0.261174\n",
      "19 \t\t 0.245582\n",
      "20 \t\t 0.231574\n",
      "21 \t\t 0.218917\n",
      "22 \t\t 0.207426\n",
      "23 \t\t 0.196951\n",
      "24 \t\t 0.187372\n",
      "25 \t\t 0.178588\n",
      "26 \t\t 0.170513\n",
      "27 \t\t 0.163076\n",
      "28 \t\t 0.156211\n",
      "29 \t\t 0.149864\n",
      "30 \t\t 0.143983\n",
      "31 \t\t 0.138524\n",
      "32 \t\t 0.133447\n",
      "33 \t\t 0.128715\n",
      "34 \t\t 0.124298\n",
      "35 \t\t 0.120167\n",
      "36 \t\t 0.116295\n",
      "37 \t\t 0.112661\n",
      "38 \t\t 0.109242\n",
      "39 \t\t 0.106022\n",
      "40 \t\t 0.102984\n",
      "41 \t\t 0.100113\n",
      "42 \t\t 0.097396\n",
      "43 \t\t 0.094820\n",
      "44 \t\t 0.092376\n",
      "45 \t\t 0.090053\n",
      "46 \t\t 0.087844\n",
      "47 \t\t 0.085739\n",
      "48 \t\t 0.083731\n",
      "49 \t\t 0.081815\n",
      "50 \t\t 0.079984\n",
      "51 \t\t 0.078233\n",
      "52 \t\t 0.076556\n",
      "53 \t\t 0.074950\n",
      "54 \t\t 0.073409\n",
      "55 \t\t 0.071930\n",
      "56 \t\t 0.070509\n",
      "57 \t\t 0.069143\n",
      "58 \t\t 0.067829\n",
      "59 \t\t 0.066564\n",
      "60 \t\t 0.065345\n",
      "61 \t\t 0.064170\n",
      "62 \t\t 0.063036\n",
      "63 \t\t 0.061941\n",
      "64 \t\t 0.060884\n",
      "65 \t\t 0.059861\n",
      "66 \t\t 0.058873\n",
      "67 \t\t 0.057916\n",
      "68 \t\t 0.056990\n",
      "69 \t\t 0.056092\n",
      "70 \t\t 0.055222\n",
      "71 \t\t 0.054379\n",
      "72 \t\t 0.053560\n",
      "73 \t\t 0.052766\n",
      "74 \t\t 0.051994\n",
      "75 \t\t 0.051244\n",
      "76 \t\t 0.050516\n",
      "77 \t\t 0.049807\n",
      "78 \t\t 0.049118\n",
      "79 \t\t 0.048447\n",
      "80 \t\t 0.047794\n",
      "81 \t\t 0.047158\n",
      "82 \t\t 0.046538\n",
      "83 \t\t 0.045934\n",
      "84 \t\t 0.045346\n",
      "85 \t\t 0.044771\n",
      "86 \t\t 0.044211\n",
      "87 \t\t 0.043665\n",
      "88 \t\t 0.043131\n",
      "89 \t\t 0.042610\n",
      "90 \t\t 0.042101\n",
      "91 \t\t 0.041604\n",
      "92 \t\t 0.041118\n",
      "93 \t\t 0.040643\n",
      "94 \t\t 0.040179\n",
      "95 \t\t 0.039725\n",
      "96 \t\t 0.039281\n",
      "97 \t\t 0.038846\n",
      "98 \t\t 0.038420\n",
      "99 \t\t 0.038004\n",
      "100 \t\t 0.037596\n",
      "101 \t\t 0.037197\n",
      "102 \t\t 0.036806\n",
      "103 \t\t 0.036422\n",
      "104 \t\t 0.036047\n",
      "105 \t\t 0.035678\n",
      "106 \t\t 0.035317\n",
      "107 \t\t 0.034963\n",
      "108 \t\t 0.034616\n",
      "109 \t\t 0.034276\n",
      "110 \t\t 0.033942\n",
      "111 \t\t 0.033614\n",
      "112 \t\t 0.033292\n",
      "113 \t\t 0.032976\n",
      "114 \t\t 0.032666\n",
      "115 \t\t 0.032362\n",
      "116 \t\t 0.032063\n",
      "117 \t\t 0.031769\n",
      "118 \t\t 0.031481\n",
      "119 \t\t 0.031197\n",
      "120 \t\t 0.030919\n",
      "121 \t\t 0.030645\n",
      "122 \t\t 0.030376\n",
      "123 \t\t 0.030112\n",
      "124 \t\t 0.029852\n",
      "125 \t\t 0.029596\n",
      "126 \t\t 0.029345\n",
      "127 \t\t 0.029098\n",
      "128 \t\t 0.028854\n",
      "129 \t\t 0.028615\n",
      "130 \t\t 0.028380\n",
      "131 \t\t 0.028148\n",
      "132 \t\t 0.027920\n",
      "133 \t\t 0.027696\n",
      "134 \t\t 0.027475\n",
      "135 \t\t 0.027257\n",
      "136 \t\t 0.027043\n",
      "137 \t\t 0.026833\n",
      "138 \t\t 0.026625\n",
      "139 \t\t 0.026421\n",
      "140 \t\t 0.026220\n",
      "141 \t\t 0.026021\n",
      "142 \t\t 0.025826\n",
      "143 \t\t 0.025634\n",
      "144 \t\t 0.025444\n",
      "145 \t\t 0.025257\n",
      "146 \t\t 0.025073\n",
      "147 \t\t 0.024892\n",
      "148 \t\t 0.024713\n",
      "149 \t\t 0.024536\n",
      "150 \t\t 0.024363\n",
      "151 \t\t 0.024191\n",
      "152 \t\t 0.024022\n",
      "153 \t\t 0.023856\n",
      "154 \t\t 0.023691\n",
      "155 \t\t 0.023529\n",
      "156 \t\t 0.023370\n",
      "157 \t\t 0.023212\n",
      "158 \t\t 0.023057\n",
      "159 \t\t 0.022903\n",
      "160 \t\t 0.022752\n",
      "161 \t\t 0.022603\n",
      "162 \t\t 0.022455\n",
      "163 \t\t 0.022310\n",
      "164 \t\t 0.022166\n",
      "165 \t\t 0.022025\n",
      "166 \t\t 0.021885\n",
      "167 \t\t 0.021747\n",
      "168 \t\t 0.021611\n",
      "169 \t\t 0.021476\n",
      "170 \t\t 0.021343\n",
      "171 \t\t 0.021212\n",
      "172 \t\t 0.021083\n",
      "173 \t\t 0.020955\n",
      "174 \t\t 0.020829\n",
      "175 \t\t 0.020704\n",
      "176 \t\t 0.020581\n",
      "177 \t\t 0.020459\n",
      "178 \t\t 0.020339\n",
      "179 \t\t 0.020220\n",
      "180 \t\t 0.020103\n",
      "181 \t\t 0.019987\n",
      "182 \t\t 0.019872\n",
      "183 \t\t 0.019759\n",
      "184 \t\t 0.019647\n",
      "185 \t\t 0.019537\n",
      "186 \t\t 0.019427\n",
      "187 \t\t 0.019319\n",
      "188 \t\t 0.019212\n",
      "189 \t\t 0.019107\n",
      "190 \t\t 0.019002\n",
      "191 \t\t 0.018899\n",
      "192 \t\t 0.018797\n",
      "193 \t\t 0.018696\n",
      "194 \t\t 0.018596\n",
      "195 \t\t 0.018498\n",
      "196 \t\t 0.018400\n",
      "197 \t\t 0.018303\n",
      "198 \t\t 0.018208\n",
      "199 \t\t 0.018113\n",
      "200 \t\t 0.018020\n",
      "201 \t\t 0.017927\n",
      "202 \t\t 0.017836\n",
      "203 \t\t 0.017745\n",
      "204 \t\t 0.017656\n",
      "205 \t\t 0.017567\n",
      "206 \t\t 0.017480\n",
      "207 \t\t 0.017393\n",
      "208 \t\t 0.017307\n",
      "209 \t\t 0.017222\n",
      "210 \t\t 0.017138\n",
      "211 \t\t 0.017054\n",
      "212 \t\t 0.016972\n",
      "213 \t\t 0.016890\n",
      "214 \t\t 0.016809\n",
      "215 \t\t 0.016729\n",
      "216 \t\t 0.016650\n",
      "217 \t\t 0.016572\n",
      "218 \t\t 0.016494\n",
      "219 \t\t 0.016417\n",
      "220 \t\t 0.016341\n",
      "221 \t\t 0.016266\n",
      "222 \t\t 0.016191\n",
      "223 \t\t 0.016117\n",
      "224 \t\t 0.016044\n",
      "225 \t\t 0.015971\n",
      "226 \t\t 0.015899\n",
      "227 \t\t 0.015828\n",
      "228 \t\t 0.015757\n",
      "229 \t\t 0.015687\n",
      "230 \t\t 0.015618\n",
      "231 \t\t 0.015550\n",
      "232 \t\t 0.015482\n",
      "233 \t\t 0.015414\n",
      "234 \t\t 0.015347\n",
      "235 \t\t 0.015281\n",
      "236 \t\t 0.015216\n",
      "237 \t\t 0.015151\n",
      "238 \t\t 0.015086\n",
      "239 \t\t 0.015023\n",
      "240 \t\t 0.014959\n",
      "241 \t\t 0.014897\n",
      "242 \t\t 0.014834\n",
      "243 \t\t 0.014773\n",
      "244 \t\t 0.014712\n",
      "245 \t\t 0.014651\n",
      "246 \t\t 0.014591\n",
      "247 \t\t 0.014532\n",
      "248 \t\t 0.014473\n",
      "249 \t\t 0.014414\n",
      "250 \t\t 0.014356\n"
     ]
    }
   ],
   "source": [
    "# Create user-by-item matrix\n",
    "train_data_np = np.array(user_item_matrix)\n",
    "\n",
    "# Fit FunkSVD with the specified hyper parameters to the training data\n",
    "user_mat, article_mat = FunkSVD(train_data_np, latent_features=15, learning_rate=0.005, iters=250)"
   ]
  },
  {
   "cell_type": "code",
   "execution_count": 72,
   "metadata": {},
   "outputs": [],
   "source": [
    "def predict_rating(user_matrix, article_matrix, user_id, article_id, train_data_df):\n",
    "    \"\"\"\n",
    "    Description:\n",
    "        This function perfom the prediction\n",
    "    \n",
    "    Args:\n",
    "        user_matrix (dataframe): user by latent factor matrix\n",
    "        article_matrix (dataframe): latent factor by article matrix\n",
    "        user_id (int): the user_id from the reviews df\n",
    "        article_id (int): the article_id according the articles df\n",
    "    \n",
    "    Returns:\n",
    "        pred (float): the predicted rating for user_id-article_id according to FunkSVD\n",
    "    \"\"\"\n",
    "    \n",
    "    # Use the training data to create a series of users and articles that matches the ordering in training data\n",
    "    user_ids_series = np.array(train_data_df.index)\n",
    "    article_ids_series = np.array(train_data_df.columns)\n",
    "    \n",
    "    # User row and article Column\n",
    "    user_row = np.where(user_ids_series == user_id)[0][0]\n",
    "    article_col = np.where(article_ids_series == article_id)[0][0]\n",
    "    \n",
    "    # Take dot product of that row and column in U and V to make prediction\n",
    "    pred = np.dot(user_matrix[user_row, :], article_matrix[:, article_col])\n",
    "    \n",
    "    return round(pred)"
   ]
  },
  {
   "cell_type": "code",
   "execution_count": 73,
   "metadata": {},
   "outputs": [
    {
     "data": {
      "text/plain": [
       "1.0"
      ]
     },
     "execution_count": 73,
     "metadata": {},
     "output_type": "execute_result"
    }
   ],
   "source": [
    "# Test your function with the first user-movie in the user-article matrix (notice this is a nan)\n",
    "pred_val = predict_rating(user_mat, article_mat, 2, 20, user_item_matrix)\n",
    "pred_val"
   ]
  },
  {
   "cell_type": "code",
   "execution_count": 74,
   "metadata": {},
   "outputs": [
    {
     "data": {
      "text/plain": [
       "nan"
      ]
     },
     "execution_count": 74,
     "metadata": {},
     "output_type": "execute_result"
    }
   ],
   "source": [
    "user_item_matrix.loc[2, 20]"
   ]
  },
  {
   "cell_type": "code",
   "execution_count": 75,
   "metadata": {},
   "outputs": [],
   "source": [
    "# A rating of 1 indicates interest, while a rating of 0 indicates that the user is not interested.\n",
    "\n",
    "def print_prediction_summary(user_id, article_id, prediction):\n",
    "    \"\"\"\n",
    "    Description:\n",
    "        This function print the prediction in a nice way\n",
    "    \n",
    "    Args:\n",
    "        user_id (int): the user_id from the reviews df\n",
    "        article_id (int): the article_id according the articles df\n",
    "        prediction (float): the predicted rating for user_id-article_id\n",
    "    \n",
    "    \"\"\"\n",
    "    \n",
    "    aux_df = df.drop_duplicates(subset=['article_id'])\n",
    "    article_name = str(aux_df[aux_df['article_id'] == article_id]['title'].values[0])\n",
    "    print(\"For user {} we predict a {} rating for the article - '{}'.\".format(user_id, round(prediction, 2), article_name))"
   ]
  },
  {
   "cell_type": "code",
   "execution_count": 76,
   "metadata": {},
   "outputs": [
    {
     "name": "stdout",
     "output_type": "stream",
     "text": [
      "For user 2 we predict a 1.0 rating for the article - 'apache spark™ 2.0: extend structured streaming for spark ml'.\n"
     ]
    }
   ],
   "source": [
    "# Test your function the the results of the previous function\n",
    "print_prediction_summary(2, 15, predict_rating(user_mat, article_mat, 2, 15, user_item_matrix))"
   ]
  },
  {
   "cell_type": "markdown",
   "metadata": {
    "collapsed": true
   },
   "source": [
    "<a id='conclusions'></a>\n",
    "### Extras\n",
    "Using your workbook, you could now save your recommendations for each user, develop a class to make new predictions and update your results, and make a flask app to deploy your results.  These tasks are beyond what is required for this project.  However, from what you learned in the lessons, you certainly capable of taking these tasks on to improve upon your work here!"
   ]
  },
  {
   "cell_type": "code",
   "execution_count": 78,
   "metadata": {},
   "outputs": [
    {
     "data": {
      "text/plain": [
       "0"
      ]
     },
     "execution_count": 78,
     "metadata": {},
     "output_type": "execute_result"
    }
   ],
   "source": [
    "from subprocess import call\n",
    "call(['python', '-m', 'nbconvert', 'Recommendations_with_IBM.ipynb'])"
   ]
  }
 ],
 "metadata": {
  "kernelspec": {
   "display_name": "Python 3",
   "language": "python",
   "name": "python3"
  },
  "language_info": {
   "codemirror_mode": {
    "name": "ipython",
    "version": 3
   },
   "file_extension": ".py",
   "mimetype": "text/x-python",
   "name": "python",
   "nbconvert_exporter": "python",
   "pygments_lexer": "ipython3",
   "version": "3.6.3"
  }
 },
 "nbformat": 4,
 "nbformat_minor": 2
}
